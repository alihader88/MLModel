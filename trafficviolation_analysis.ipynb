{
  "nbformat": 4,
  "nbformat_minor": 0,
  "metadata": {
    "kernelspec": {
      "display_name": "Python 3",
      "language": "python",
      "name": "python3"
    },
    "language_info": {
      "codemirror_mode": {
        "name": "ipython",
        "version": 3
      },
      "file_extension": ".py",
      "mimetype": "text/x-python",
      "name": "python",
      "nbconvert_exporter": "python",
      "pygments_lexer": "ipython3",
      "version": "3.7.6"
    },
    "colab": {
      "name": "trafficviolation-analysis.ipynb",
      "provenance": [],
      "collapsed_sections": [],
      "include_colab_link": true
    }
  },
  "cells": [
    {
      "cell_type": "markdown",
      "metadata": {
        "id": "view-in-github",
        "colab_type": "text"
      },
      "source": [
        "<a href=\"https://colab.research.google.com/github/alihader88/MLModel/blob/main/trafficviolation_analysis.ipynb\" target=\"_parent\"><img src=\"https://colab.research.google.com/assets/colab-badge.svg\" alt=\"Open In Colab\"/></a>"
      ]
    },
    {
      "cell_type": "code",
      "metadata": {
        "colab": {
          "base_uri": "https://localhost:8080/"
        },
        "id": "WUsVIFIbTNRc",
        "outputId": "9eafca64-0a59-499c-f69d-ff5faee4b29a"
      },
      "source": [
        "# Jovian Commit Essentials\n",
        "# Please retain and execute this cell without modifying the contents for `jovian.commit` to work\n",
        "!pip install jovian --upgrade -q\n",
        "import jovian\n",
        "jovian.set_project('trafficviolation-analysis')\n",
        "jovian.set_colab_id('1mouw-gs6EqjdEob6JGVrGhk43_Gf6WjD')"
      ],
      "execution_count": 1,
      "outputs": [
        {
          "output_type": "stream",
          "name": "stdout",
          "text": [
            "\u001b[?25l\r\u001b[K     |████▊                           | 10 kB 24.8 MB/s eta 0:00:01\r\u001b[K     |█████████▌                      | 20 kB 8.8 MB/s eta 0:00:01\r\u001b[K     |██████████████▎                 | 30 kB 7.2 MB/s eta 0:00:01\r\u001b[K     |███████████████████             | 40 kB 6.9 MB/s eta 0:00:01\r\u001b[K     |███████████████████████▉        | 51 kB 4.1 MB/s eta 0:00:01\r\u001b[K     |████████████████████████████▋   | 61 kB 4.3 MB/s eta 0:00:01\r\u001b[K     |████████████████████████████████| 68 kB 2.8 MB/s \n",
            "\u001b[?25h  Building wheel for uuid (setup.py) ... \u001b[?25l\u001b[?25hdone\n"
          ]
        }
      ]
    },
    {
      "cell_type": "markdown",
      "source": [
        ""
      ],
      "metadata": {
        "id": "aNrm3lwno2bB"
      }
    },
    {
      "cell_type": "markdown",
      "metadata": {
        "id": "0LrHD6tETNRg"
      },
      "source": [
        "# trafficviolation-analysis\n",
        "\n",
        "Use the \"Run\" button to execute the code."
      ]
    },
    {
      "cell_type": "code",
      "metadata": {
        "id": "riuUkp1xTNRg"
      },
      "source": [
        "!pip install jovian --upgrade --quiet"
      ],
      "execution_count": 2,
      "outputs": []
    },
    {
      "cell_type": "code",
      "metadata": {
        "id": "XLON-swuTNRh"
      },
      "source": [
        "import jovian\n"
      ],
      "execution_count": 3,
      "outputs": []
    },
    {
      "cell_type": "markdown",
      "metadata": {
        "id": "mbwxYrUPTlZB"
      },
      "source": [
        "Traffic Violation Exploratory Data Analysis"
      ]
    },
    {
      "cell_type": "code",
      "metadata": {
        "id": "qpvevP-GTNRi"
      },
      "source": [
        "pip install opendatasets --upgrade --quiet\n"
      ],
      "execution_count": 4,
      "outputs": []
    },
    {
      "cell_type": "markdown",
      "metadata": {
        "id": "0TVQm5ozXBtY"
      },
      "source": [
        "import dataset"
      ]
    },
    {
      "cell_type": "code",
      "metadata": {
        "colab": {
          "base_uri": "https://localhost:8080/"
        },
        "id": "ZItzPRtmVCqU",
        "outputId": "3ba11291-e545-4671-9e03-8e2e55ec825e"
      },
      "source": [
        "import opendatasets as od\n",
        "dataset_url = 'https://www.kaggle.com/rounak041993/traffic-violations-in-maryland-countyt'\n",
        "od.download('https://www.kaggle.com/rounak041993/traffic-violations-in-maryland-county')"
      ],
      "execution_count": 5,
      "outputs": [
        {
          "output_type": "stream",
          "name": "stdout",
          "text": [
            "Please provide your Kaggle credentials to download this dataset. Learn more: http://bit.ly/kaggle-creds\n",
            "Your Kaggle username: nidasyed2891\n",
            "Your Kaggle Key: ··········\n",
            "Downloading traffic-violations-in-maryland-county.zip to ./traffic-violations-in-maryland-county\n"
          ]
        },
        {
          "output_type": "stream",
          "name": "stderr",
          "text": [
            "100%|██████████| 59.9M/59.9M [00:01<00:00, 38.5MB/s]\n"
          ]
        },
        {
          "output_type": "stream",
          "name": "stdout",
          "text": [
            "\n"
          ]
        }
      ]
    },
    {
      "cell_type": "code",
      "metadata": {
        "id": "JATM8MrAWNBX"
      },
      "source": [
        "data_filename = './traffic-violations-in-maryland-county/Traffic_Violations.csv'"
      ],
      "execution_count": 6,
      "outputs": []
    },
    {
      "cell_type": "markdown",
      "metadata": {
        "id": "mafHLzSYXLFH"
      },
      "source": [
        "data preparation and cleaninig"
      ]
    },
    {
      "cell_type": "code",
      "metadata": {
        "id": "Nu1O-Q5JXSHU",
        "colab": {
          "base_uri": "https://localhost:8080/"
        },
        "outputId": "92dc26f7-1905-42a1-9ea1-6fa7520e152c"
      },
      "source": [
        "import pandas as pd\n",
        "from scipy import stats\n",
        "from statsmodels.stats import weightstats as stests"
      ],
      "execution_count": 7,
      "outputs": [
        {
          "output_type": "stream",
          "name": "stderr",
          "text": [
            "/usr/local/lib/python3.7/dist-packages/statsmodels/tools/_testing.py:19: FutureWarning: pandas.util.testing is deprecated. Use the functions in the public API at pandas.testing instead.\n",
            "  import pandas.util.testing as tm\n"
          ]
        }
      ]
    },
    {
      "cell_type": "code",
      "metadata": {
        "colab": {
          "base_uri": "https://localhost:8080/"
        },
        "id": "nW4KgdmzY6x8",
        "outputId": "4a4f88fa-356b-4c6b-ceb3-c5a9ac5a3be0"
      },
      "source": [
        "df = pd.read_csv('/content/traffic-violations-in-maryland-county/Traffic_Violations.csv')"
      ],
      "execution_count": 8,
      "outputs": [
        {
          "output_type": "stream",
          "name": "stderr",
          "text": [
            "/usr/local/lib/python3.7/dist-packages/IPython/core/interactiveshell.py:2718: DtypeWarning: Columns (26) have mixed types.Specify dtype option on import or set low_memory=False.\n",
            "  interactivity=interactivity, compiler=compiler, result=result)\n"
          ]
        }
      ]
    },
    {
      "cell_type": "code",
      "metadata": {
        "colab": {
          "base_uri": "https://localhost:8080/",
          "height": 1000
        },
        "id": "i3FyNp1Cd-rq",
        "outputId": "4af1fd9d-08d0-4fa7-f2b3-fab03cedf3d6"
      },
      "source": [
        "df"
      ],
      "execution_count": 9,
      "outputs": [
        {
          "output_type": "execute_result",
          "data": {
            "text/html": [
              "\n",
              "  <div id=\"df-b29ce8d0-8080-48d5-add7-1a31b3460c5a\">\n",
              "    <div class=\"colab-df-container\">\n",
              "      <div>\n",
              "<style scoped>\n",
              "    .dataframe tbody tr th:only-of-type {\n",
              "        vertical-align: middle;\n",
              "    }\n",
              "\n",
              "    .dataframe tbody tr th {\n",
              "        vertical-align: top;\n",
              "    }\n",
              "\n",
              "    .dataframe thead th {\n",
              "        text-align: right;\n",
              "    }\n",
              "</style>\n",
              "<table border=\"1\" class=\"dataframe\">\n",
              "  <thead>\n",
              "    <tr style=\"text-align: right;\">\n",
              "      <th></th>\n",
              "      <th>Date Of Stop</th>\n",
              "      <th>Time Of Stop</th>\n",
              "      <th>Agency</th>\n",
              "      <th>SubAgency</th>\n",
              "      <th>Description</th>\n",
              "      <th>Location</th>\n",
              "      <th>Latitude</th>\n",
              "      <th>Longitude</th>\n",
              "      <th>Accident</th>\n",
              "      <th>Belts</th>\n",
              "      <th>Personal Injury</th>\n",
              "      <th>Property Damage</th>\n",
              "      <th>Fatal</th>\n",
              "      <th>Commercial License</th>\n",
              "      <th>HAZMAT</th>\n",
              "      <th>Commercial Vehicle</th>\n",
              "      <th>Alcohol</th>\n",
              "      <th>Work Zone</th>\n",
              "      <th>State</th>\n",
              "      <th>VehicleType</th>\n",
              "      <th>Year</th>\n",
              "      <th>Make</th>\n",
              "      <th>Model</th>\n",
              "      <th>Color</th>\n",
              "      <th>Violation Type</th>\n",
              "      <th>Charge</th>\n",
              "      <th>Article</th>\n",
              "      <th>Contributed To Accident</th>\n",
              "      <th>Race</th>\n",
              "      <th>Gender</th>\n",
              "      <th>Driver City</th>\n",
              "      <th>Driver State</th>\n",
              "      <th>DL State</th>\n",
              "      <th>Arrest Type</th>\n",
              "      <th>Geolocation</th>\n",
              "    </tr>\n",
              "  </thead>\n",
              "  <tbody>\n",
              "    <tr>\n",
              "      <th>0</th>\n",
              "      <td>09/24/2013</td>\n",
              "      <td>17:11:00</td>\n",
              "      <td>MCP</td>\n",
              "      <td>3rd district, Silver Spring</td>\n",
              "      <td>DRIVING VEHICLE ON HIGHWAY WITH SUSPENDED REGI...</td>\n",
              "      <td>8804 FLOWER AVE</td>\n",
              "      <td>NaN</td>\n",
              "      <td>NaN</td>\n",
              "      <td>No</td>\n",
              "      <td>No</td>\n",
              "      <td>No</td>\n",
              "      <td>No</td>\n",
              "      <td>No</td>\n",
              "      <td>No</td>\n",
              "      <td>No</td>\n",
              "      <td>No</td>\n",
              "      <td>No</td>\n",
              "      <td>No</td>\n",
              "      <td>MD</td>\n",
              "      <td>02 - Automobile</td>\n",
              "      <td>2008.0</td>\n",
              "      <td>FORD</td>\n",
              "      <td>4S</td>\n",
              "      <td>BLACK</td>\n",
              "      <td>Citation</td>\n",
              "      <td>13-401(h)</td>\n",
              "      <td>Transportation Article</td>\n",
              "      <td>No</td>\n",
              "      <td>BLACK</td>\n",
              "      <td>M</td>\n",
              "      <td>TAKOMA PARK</td>\n",
              "      <td>MD</td>\n",
              "      <td>MD</td>\n",
              "      <td>A - Marked Patrol</td>\n",
              "      <td>NaN</td>\n",
              "    </tr>\n",
              "    <tr>\n",
              "      <th>1</th>\n",
              "      <td>08/29/2017</td>\n",
              "      <td>10:19:00</td>\n",
              "      <td>MCP</td>\n",
              "      <td>2nd district, Bethesda</td>\n",
              "      <td>DRIVER FAILURE TO OBEY PROPERLY PLACED TRAFFIC...</td>\n",
              "      <td>WISCONSIN AVE@ ELM ST</td>\n",
              "      <td>38.981725</td>\n",
              "      <td>-77.092757</td>\n",
              "      <td>No</td>\n",
              "      <td>No</td>\n",
              "      <td>No</td>\n",
              "      <td>No</td>\n",
              "      <td>No</td>\n",
              "      <td>No</td>\n",
              "      <td>No</td>\n",
              "      <td>No</td>\n",
              "      <td>No</td>\n",
              "      <td>No</td>\n",
              "      <td>VA</td>\n",
              "      <td>02 - Automobile</td>\n",
              "      <td>2001.0</td>\n",
              "      <td>TOYOTA</td>\n",
              "      <td>COROLLA</td>\n",
              "      <td>GREEN</td>\n",
              "      <td>Citation</td>\n",
              "      <td>21-201(a1)</td>\n",
              "      <td>Transportation Article</td>\n",
              "      <td>No</td>\n",
              "      <td>WHITE</td>\n",
              "      <td>F</td>\n",
              "      <td>FAIRFAX STATION</td>\n",
              "      <td>VA</td>\n",
              "      <td>VA</td>\n",
              "      <td>A - Marked Patrol</td>\n",
              "      <td>(38.981725, -77.0927566666667)</td>\n",
              "    </tr>\n",
              "    <tr>\n",
              "      <th>2</th>\n",
              "      <td>12/01/2014</td>\n",
              "      <td>12:52:00</td>\n",
              "      <td>MCP</td>\n",
              "      <td>6th district, Gaithersburg / Montgomery Village</td>\n",
              "      <td>FAILURE STOP AND YIELD AT THRU HWY</td>\n",
              "      <td>CHRISTOPHER AVE/MONTGOMERY VILLAGE AVE</td>\n",
              "      <td>39.162888</td>\n",
              "      <td>-77.229088</td>\n",
              "      <td>No</td>\n",
              "      <td>No</td>\n",
              "      <td>No</td>\n",
              "      <td>Yes</td>\n",
              "      <td>No</td>\n",
              "      <td>No</td>\n",
              "      <td>No</td>\n",
              "      <td>No</td>\n",
              "      <td>No</td>\n",
              "      <td>No</td>\n",
              "      <td>MD</td>\n",
              "      <td>02 - Automobile</td>\n",
              "      <td>2001.0</td>\n",
              "      <td>HONDA</td>\n",
              "      <td>ACCORD</td>\n",
              "      <td>SILVER</td>\n",
              "      <td>Citation</td>\n",
              "      <td>21-403(b)</td>\n",
              "      <td>Transportation Article</td>\n",
              "      <td>No</td>\n",
              "      <td>BLACK</td>\n",
              "      <td>F</td>\n",
              "      <td>UPPER MARLBORO</td>\n",
              "      <td>MD</td>\n",
              "      <td>MD</td>\n",
              "      <td>A - Marked Patrol</td>\n",
              "      <td>(39.1628883333333, -77.2290883333333)</td>\n",
              "    </tr>\n",
              "    <tr>\n",
              "      <th>3</th>\n",
              "      <td>08/29/2017</td>\n",
              "      <td>09:22:00</td>\n",
              "      <td>MCP</td>\n",
              "      <td>3rd district, Silver Spring</td>\n",
              "      <td>FAILURE YIELD RIGHT OF WAY ON U TURN</td>\n",
              "      <td>CHERRY HILL RD./CALVERTON BLVD.</td>\n",
              "      <td>39.056975</td>\n",
              "      <td>-76.954633</td>\n",
              "      <td>No</td>\n",
              "      <td>No</td>\n",
              "      <td>No</td>\n",
              "      <td>Yes</td>\n",
              "      <td>No</td>\n",
              "      <td>No</td>\n",
              "      <td>No</td>\n",
              "      <td>No</td>\n",
              "      <td>No</td>\n",
              "      <td>No</td>\n",
              "      <td>MD</td>\n",
              "      <td>02 - Automobile</td>\n",
              "      <td>1998.0</td>\n",
              "      <td>DODG</td>\n",
              "      <td>DAKOTA</td>\n",
              "      <td>WHITE</td>\n",
              "      <td>Citation</td>\n",
              "      <td>21-402(b)</td>\n",
              "      <td>Transportation Article</td>\n",
              "      <td>No</td>\n",
              "      <td>BLACK</td>\n",
              "      <td>M</td>\n",
              "      <td>FORT WASHINGTON</td>\n",
              "      <td>MD</td>\n",
              "      <td>MD</td>\n",
              "      <td>A - Marked Patrol</td>\n",
              "      <td>(39.056975, -76.9546333333333)</td>\n",
              "    </tr>\n",
              "    <tr>\n",
              "      <th>4</th>\n",
              "      <td>08/28/2017</td>\n",
              "      <td>23:41:00</td>\n",
              "      <td>MCP</td>\n",
              "      <td>6th district, Gaithersburg / Montgomery Village</td>\n",
              "      <td>FAILURE OF DR. TO MAKE LANE CHANGE TO AVAIL. L...</td>\n",
              "      <td>355 @ SOUTH WESTLAND DRIVE</td>\n",
              "      <td>NaN</td>\n",
              "      <td>NaN</td>\n",
              "      <td>No</td>\n",
              "      <td>No</td>\n",
              "      <td>No</td>\n",
              "      <td>No</td>\n",
              "      <td>No</td>\n",
              "      <td>No</td>\n",
              "      <td>No</td>\n",
              "      <td>No</td>\n",
              "      <td>No</td>\n",
              "      <td>No</td>\n",
              "      <td>MD</td>\n",
              "      <td>02 - Automobile</td>\n",
              "      <td>2015.0</td>\n",
              "      <td>MINI COOPER</td>\n",
              "      <td>2S</td>\n",
              "      <td>WHITE</td>\n",
              "      <td>Citation</td>\n",
              "      <td>21-405(e1)</td>\n",
              "      <td>Transportation Article</td>\n",
              "      <td>No</td>\n",
              "      <td>WHITE</td>\n",
              "      <td>M</td>\n",
              "      <td>GAITHERSBURG</td>\n",
              "      <td>MD</td>\n",
              "      <td>MD</td>\n",
              "      <td>A - Marked Patrol</td>\n",
              "      <td>NaN</td>\n",
              "    </tr>\n",
              "    <tr>\n",
              "      <th>...</th>\n",
              "      <td>...</td>\n",
              "      <td>...</td>\n",
              "      <td>...</td>\n",
              "      <td>...</td>\n",
              "      <td>...</td>\n",
              "      <td>...</td>\n",
              "      <td>...</td>\n",
              "      <td>...</td>\n",
              "      <td>...</td>\n",
              "      <td>...</td>\n",
              "      <td>...</td>\n",
              "      <td>...</td>\n",
              "      <td>...</td>\n",
              "      <td>...</td>\n",
              "      <td>...</td>\n",
              "      <td>...</td>\n",
              "      <td>...</td>\n",
              "      <td>...</td>\n",
              "      <td>...</td>\n",
              "      <td>...</td>\n",
              "      <td>...</td>\n",
              "      <td>...</td>\n",
              "      <td>...</td>\n",
              "      <td>...</td>\n",
              "      <td>...</td>\n",
              "      <td>...</td>\n",
              "      <td>...</td>\n",
              "      <td>...</td>\n",
              "      <td>...</td>\n",
              "      <td>...</td>\n",
              "      <td>...</td>\n",
              "      <td>...</td>\n",
              "      <td>...</td>\n",
              "      <td>...</td>\n",
              "      <td>...</td>\n",
              "    </tr>\n",
              "    <tr>\n",
              "      <th>1292394</th>\n",
              "      <td>12/14/2012</td>\n",
              "      <td>23:56:00</td>\n",
              "      <td>MCP</td>\n",
              "      <td>Headquarters and Special Operations</td>\n",
              "      <td>Stop Lights</td>\n",
              "      <td>LOST KNOFE RD/ MVA</td>\n",
              "      <td>39.156846</td>\n",
              "      <td>-77.202903</td>\n",
              "      <td>No</td>\n",
              "      <td>No</td>\n",
              "      <td>No</td>\n",
              "      <td>No</td>\n",
              "      <td>No</td>\n",
              "      <td>No</td>\n",
              "      <td>No</td>\n",
              "      <td>No</td>\n",
              "      <td>No</td>\n",
              "      <td>No</td>\n",
              "      <td>MD</td>\n",
              "      <td>02 - Automobile</td>\n",
              "      <td>2007.0</td>\n",
              "      <td>TOYT</td>\n",
              "      <td>MATRIX</td>\n",
              "      <td>BLUE</td>\n",
              "      <td>ESERO</td>\n",
              "      <td>64*</td>\n",
              "      <td>NaN</td>\n",
              "      <td>No</td>\n",
              "      <td>BLACK</td>\n",
              "      <td>F</td>\n",
              "      <td>MONTGOMERY VILLAGE</td>\n",
              "      <td>MD</td>\n",
              "      <td>MD</td>\n",
              "      <td>A - Marked Patrol</td>\n",
              "      <td>(39.1568459666667, -77.2029032166667)</td>\n",
              "    </tr>\n",
              "    <tr>\n",
              "      <th>1292395</th>\n",
              "      <td>12/15/2012</td>\n",
              "      <td>00:11:00</td>\n",
              "      <td>MCP</td>\n",
              "      <td>Headquarters and Special Operations</td>\n",
              "      <td>Headlights</td>\n",
              "      <td>MIDCOUNTY HWY/ MILLER FALL DR</td>\n",
              "      <td>39.143137</td>\n",
              "      <td>-77.158675</td>\n",
              "      <td>No</td>\n",
              "      <td>No</td>\n",
              "      <td>No</td>\n",
              "      <td>No</td>\n",
              "      <td>No</td>\n",
              "      <td>No</td>\n",
              "      <td>No</td>\n",
              "      <td>No</td>\n",
              "      <td>No</td>\n",
              "      <td>No</td>\n",
              "      <td>MD</td>\n",
              "      <td>02 - Automobile</td>\n",
              "      <td>1998.0</td>\n",
              "      <td>HOND</td>\n",
              "      <td>CIVIC</td>\n",
              "      <td>GREEN</td>\n",
              "      <td>ESERO</td>\n",
              "      <td>55*</td>\n",
              "      <td>NaN</td>\n",
              "      <td>No</td>\n",
              "      <td>HISPANIC</td>\n",
              "      <td>M</td>\n",
              "      <td>GAITHERSBURG</td>\n",
              "      <td>MD</td>\n",
              "      <td>MD</td>\n",
              "      <td>A - Marked Patrol</td>\n",
              "      <td>(39.1431373333333, -77.1586750333333)</td>\n",
              "    </tr>\n",
              "    <tr>\n",
              "      <th>1292396</th>\n",
              "      <td>12/15/2012</td>\n",
              "      <td>00:30:00</td>\n",
              "      <td>MCP</td>\n",
              "      <td>Headquarters and Special Operations</td>\n",
              "      <td>Stop Lights</td>\n",
              "      <td>270/ MVA</td>\n",
              "      <td>39.152770</td>\n",
              "      <td>-77.220292</td>\n",
              "      <td>No</td>\n",
              "      <td>No</td>\n",
              "      <td>No</td>\n",
              "      <td>No</td>\n",
              "      <td>No</td>\n",
              "      <td>No</td>\n",
              "      <td>No</td>\n",
              "      <td>No</td>\n",
              "      <td>No</td>\n",
              "      <td>No</td>\n",
              "      <td>MD</td>\n",
              "      <td>05 - Light Duty Truck</td>\n",
              "      <td>2006.0</td>\n",
              "      <td>HOND</td>\n",
              "      <td>CRV</td>\n",
              "      <td>BLUE</td>\n",
              "      <td>ESERO</td>\n",
              "      <td>64*</td>\n",
              "      <td>NaN</td>\n",
              "      <td>No</td>\n",
              "      <td>WHITE</td>\n",
              "      <td>F</td>\n",
              "      <td>GERMANTOWN</td>\n",
              "      <td>MD</td>\n",
              "      <td>MD</td>\n",
              "      <td>A - Marked Patrol</td>\n",
              "      <td>(39.1527700833333, -77.2202923833333)</td>\n",
              "    </tr>\n",
              "    <tr>\n",
              "      <th>1292397</th>\n",
              "      <td>12/16/2012</td>\n",
              "      <td>22:55:00</td>\n",
              "      <td>MCP</td>\n",
              "      <td>Headquarters and Special Operations</td>\n",
              "      <td>Tag Lights</td>\n",
              "      <td>MD 97/ ASPEN HILL RD</td>\n",
              "      <td>39.080061</td>\n",
              "      <td>-77.074347</td>\n",
              "      <td>No</td>\n",
              "      <td>No</td>\n",
              "      <td>No</td>\n",
              "      <td>No</td>\n",
              "      <td>No</td>\n",
              "      <td>No</td>\n",
              "      <td>No</td>\n",
              "      <td>No</td>\n",
              "      <td>No</td>\n",
              "      <td>No</td>\n",
              "      <td>MD</td>\n",
              "      <td>02 - Automobile</td>\n",
              "      <td>2003.0</td>\n",
              "      <td>CHEV</td>\n",
              "      <td>CAVALIER</td>\n",
              "      <td>YELLOW</td>\n",
              "      <td>ESERO</td>\n",
              "      <td>65*</td>\n",
              "      <td>NaN</td>\n",
              "      <td>No</td>\n",
              "      <td>BLACK</td>\n",
              "      <td>F</td>\n",
              "      <td>SILVER SPRING</td>\n",
              "      <td>MD</td>\n",
              "      <td>MD</td>\n",
              "      <td>A - Marked Patrol</td>\n",
              "      <td>(39.0800610666667, -77.0743472)</td>\n",
              "    </tr>\n",
              "    <tr>\n",
              "      <th>1292398</th>\n",
              "      <td>12/21/2012</td>\n",
              "      <td>23:47:00</td>\n",
              "      <td>MCP</td>\n",
              "      <td>Headquarters and Special Operations</td>\n",
              "      <td>Tag Lights</td>\n",
              "      <td>MD 193/ 495</td>\n",
              "      <td>39.017139</td>\n",
              "      <td>-77.006379</td>\n",
              "      <td>No</td>\n",
              "      <td>No</td>\n",
              "      <td>No</td>\n",
              "      <td>No</td>\n",
              "      <td>No</td>\n",
              "      <td>No</td>\n",
              "      <td>No</td>\n",
              "      <td>No</td>\n",
              "      <td>No</td>\n",
              "      <td>No</td>\n",
              "      <td>MD</td>\n",
              "      <td>05 - Light Duty Truck</td>\n",
              "      <td>2001.0</td>\n",
              "      <td>FORD</td>\n",
              "      <td>VAN</td>\n",
              "      <td>BLUE</td>\n",
              "      <td>ESERO</td>\n",
              "      <td>65*</td>\n",
              "      <td>NaN</td>\n",
              "      <td>No</td>\n",
              "      <td>BLACK</td>\n",
              "      <td>M</td>\n",
              "      <td>GERMANTOWN</td>\n",
              "      <td>MD</td>\n",
              "      <td>MD</td>\n",
              "      <td>A - Marked Patrol</td>\n",
              "      <td>(39.0171391166667, -77.0063790833333)</td>\n",
              "    </tr>\n",
              "  </tbody>\n",
              "</table>\n",
              "<p>1292399 rows × 35 columns</p>\n",
              "</div>\n",
              "      <button class=\"colab-df-convert\" onclick=\"convertToInteractive('df-b29ce8d0-8080-48d5-add7-1a31b3460c5a')\"\n",
              "              title=\"Convert this dataframe to an interactive table.\"\n",
              "              style=\"display:none;\">\n",
              "        \n",
              "  <svg xmlns=\"http://www.w3.org/2000/svg\" height=\"24px\"viewBox=\"0 0 24 24\"\n",
              "       width=\"24px\">\n",
              "    <path d=\"M0 0h24v24H0V0z\" fill=\"none\"/>\n",
              "    <path d=\"M18.56 5.44l.94 2.06.94-2.06 2.06-.94-2.06-.94-.94-2.06-.94 2.06-2.06.94zm-11 1L8.5 8.5l.94-2.06 2.06-.94-2.06-.94L8.5 2.5l-.94 2.06-2.06.94zm10 10l.94 2.06.94-2.06 2.06-.94-2.06-.94-.94-2.06-.94 2.06-2.06.94z\"/><path d=\"M17.41 7.96l-1.37-1.37c-.4-.4-.92-.59-1.43-.59-.52 0-1.04.2-1.43.59L10.3 9.45l-7.72 7.72c-.78.78-.78 2.05 0 2.83L4 21.41c.39.39.9.59 1.41.59.51 0 1.02-.2 1.41-.59l7.78-7.78 2.81-2.81c.8-.78.8-2.07 0-2.86zM5.41 20L4 18.59l7.72-7.72 1.47 1.35L5.41 20z\"/>\n",
              "  </svg>\n",
              "      </button>\n",
              "      \n",
              "  <style>\n",
              "    .colab-df-container {\n",
              "      display:flex;\n",
              "      flex-wrap:wrap;\n",
              "      gap: 12px;\n",
              "    }\n",
              "\n",
              "    .colab-df-convert {\n",
              "      background-color: #E8F0FE;\n",
              "      border: none;\n",
              "      border-radius: 50%;\n",
              "      cursor: pointer;\n",
              "      display: none;\n",
              "      fill: #1967D2;\n",
              "      height: 32px;\n",
              "      padding: 0 0 0 0;\n",
              "      width: 32px;\n",
              "    }\n",
              "\n",
              "    .colab-df-convert:hover {\n",
              "      background-color: #E2EBFA;\n",
              "      box-shadow: 0px 1px 2px rgba(60, 64, 67, 0.3), 0px 1px 3px 1px rgba(60, 64, 67, 0.15);\n",
              "      fill: #174EA6;\n",
              "    }\n",
              "\n",
              "    [theme=dark] .colab-df-convert {\n",
              "      background-color: #3B4455;\n",
              "      fill: #D2E3FC;\n",
              "    }\n",
              "\n",
              "    [theme=dark] .colab-df-convert:hover {\n",
              "      background-color: #434B5C;\n",
              "      box-shadow: 0px 1px 3px 1px rgba(0, 0, 0, 0.15);\n",
              "      filter: drop-shadow(0px 1px 2px rgba(0, 0, 0, 0.3));\n",
              "      fill: #FFFFFF;\n",
              "    }\n",
              "  </style>\n",
              "\n",
              "      <script>\n",
              "        const buttonEl =\n",
              "          document.querySelector('#df-b29ce8d0-8080-48d5-add7-1a31b3460c5a button.colab-df-convert');\n",
              "        buttonEl.style.display =\n",
              "          google.colab.kernel.accessAllowed ? 'block' : 'none';\n",
              "\n",
              "        async function convertToInteractive(key) {\n",
              "          const element = document.querySelector('#df-b29ce8d0-8080-48d5-add7-1a31b3460c5a');\n",
              "          const dataTable =\n",
              "            await google.colab.kernel.invokeFunction('convertToInteractive',\n",
              "                                                     [key], {});\n",
              "          if (!dataTable) return;\n",
              "\n",
              "          const docLinkHtml = 'Like what you see? Visit the ' +\n",
              "            '<a target=\"_blank\" href=https://colab.research.google.com/notebooks/data_table.ipynb>data table notebook</a>'\n",
              "            + ' to learn more about interactive tables.';\n",
              "          element.innerHTML = '';\n",
              "          dataTable['output_type'] = 'display_data';\n",
              "          await google.colab.output.renderOutput(dataTable, element);\n",
              "          const docLink = document.createElement('div');\n",
              "          docLink.innerHTML = docLinkHtml;\n",
              "          element.appendChild(docLink);\n",
              "        }\n",
              "      </script>\n",
              "    </div>\n",
              "  </div>\n",
              "  "
            ],
            "text/plain": [
              "        Date Of Stop  ...                            Geolocation\n",
              "0         09/24/2013  ...                                    NaN\n",
              "1         08/29/2017  ...         (38.981725, -77.0927566666667)\n",
              "2         12/01/2014  ...  (39.1628883333333, -77.2290883333333)\n",
              "3         08/29/2017  ...         (39.056975, -76.9546333333333)\n",
              "4         08/28/2017  ...                                    NaN\n",
              "...              ...  ...                                    ...\n",
              "1292394   12/14/2012  ...  (39.1568459666667, -77.2029032166667)\n",
              "1292395   12/15/2012  ...  (39.1431373333333, -77.1586750333333)\n",
              "1292396   12/15/2012  ...  (39.1527700833333, -77.2202923833333)\n",
              "1292397   12/16/2012  ...        (39.0800610666667, -77.0743472)\n",
              "1292398   12/21/2012  ...  (39.0171391166667, -77.0063790833333)\n",
              "\n",
              "[1292399 rows x 35 columns]"
            ]
          },
          "metadata": {},
          "execution_count": 9
        }
      ]
    },
    {
      "cell_type": "code",
      "metadata": {
        "colab": {
          "base_uri": "https://localhost:8080/"
        },
        "id": "h1o22faiu95O",
        "outputId": "4f25b69b-4a60-419f-e9be-e888cf9b322d"
      },
      "source": [
        "numerics = ['float64']\n",
        "numeric_df = df.select_dtypes(include= numerics)\n",
        "len(numeric_df.columns)"
      ],
      "execution_count": 10,
      "outputs": [
        {
          "output_type": "execute_result",
          "data": {
            "text/plain": [
              "3"
            ]
          },
          "metadata": {},
          "execution_count": 10
        }
      ]
    },
    {
      "cell_type": "code",
      "metadata": {
        "colab": {
          "base_uri": "https://localhost:8080/"
        },
        "id": "h2__iFaxwwYh",
        "outputId": "1d17aedf-d54c-44fa-86cc-4e6a7bcb2ff7"
      },
      "source": [
        "missing_percentages = df.isna().sum().sort_values(ascending= False)/len(df)\n",
        "missing_percentages[missing_percentages != 0]"
      ],
      "execution_count": 11,
      "outputs": [
        {
          "output_type": "execute_result",
          "data": {
            "text/plain": [
              "Geolocation     0.073781\n",
              "Longitude       0.073781\n",
              "Latitude        0.073781\n",
              "Article         0.050425\n",
              "Color           0.012478\n",
              "Year            0.006247\n",
              "DL State        0.000719\n",
              "Driver City     0.000168\n",
              "Model           0.000145\n",
              "State           0.000046\n",
              "Make            0.000044\n",
              "Driver State    0.000009\n",
              "SubAgency       0.000008\n",
              "Description     0.000007\n",
              "Location        0.000002\n",
              "dtype: float64"
            ]
          },
          "metadata": {},
          "execution_count": 11
        }
      ]
    },
    {
      "cell_type": "code",
      "metadata": {
        "id": "6Cg4h3zl0EZC",
        "outputId": "d9a0e3c1-5d16-49ef-b1a0-9515020262bb",
        "colab": {
          "base_uri": "https://localhost:8080/",
          "height": 282
        }
      },
      "source": [
        "missing_percentages[missing_percentages != 0].plot(kind= 'barh')"
      ],
      "execution_count": 12,
      "outputs": [
        {
          "output_type": "execute_result",
          "data": {
            "text/plain": [
              "<matplotlib.axes._subplots.AxesSubplot at 0x7f92b76dd450>"
            ]
          },
          "metadata": {},
          "execution_count": 12
        },
        {
          "output_type": "display_data",
          "data": {
            "image/png": "[encoded data removed]",
            "text/plain": [
              "<Figure size 432x288 with 1 Axes>"
            ]
          },
          "metadata": {
            "needs_background": "light"
          }
        }
      ]
    },
    {
      "cell_type": "code",
      "metadata": {
        "colab": {
          "base_uri": "https://localhost:8080/"
        },
        "id": "hZ6DGphS08sw",
        "outputId": "6d64406d-fd25-4762-98f5-4c7341ca692b"
      },
      "source": [
        "df.columns"
      ],
      "execution_count": 13,
      "outputs": [
        {
          "output_type": "execute_result",
          "data": {
            "text/plain": [
              "Index(['Date Of Stop', 'Time Of Stop', 'Agency', 'SubAgency', 'Description',\n",
              "       'Location', 'Latitude', 'Longitude', 'Accident', 'Belts',\n",
              "       'Personal Injury', 'Property Damage', 'Fatal', 'Commercial License',\n",
              "       'HAZMAT', 'Commercial Vehicle', 'Alcohol', 'Work Zone', 'State',\n",
              "       'VehicleType', 'Year', 'Make', 'Model', 'Color', 'Violation Type',\n",
              "       'Charge', 'Article', 'Contributed To Accident', 'Race', 'Gender',\n",
              "       'Driver City', 'Driver State', 'DL State', 'Arrest Type',\n",
              "       'Geolocation'],\n",
              "      dtype='object')"
            ]
          },
          "metadata": {},
          "execution_count": 13
        }
      ]
    },
    {
      "cell_type": "code",
      "metadata": {
        "colab": {
          "base_uri": "https://localhost:8080/"
        },
        "id": "-c-Lkzw21Klq",
        "outputId": "55c8c169-ac09-45bb-a82f-56c3144fbac1"
      },
      "source": [
        "\n",
        "\n",
        "locations = df.Location.unique()\n",
        "len(locations)\n",
        "Vehicletype = df.VehicleType.unique()\n",
        "len(Vehicletype)\n"
      ],
      "execution_count": 14,
      "outputs": [
        {
          "output_type": "execute_result",
          "data": {
            "text/plain": [
              "33"
            ]
          },
          "metadata": {},
          "execution_count": 14
        }
      ]
    },
    {
      "cell_type": "code",
      "metadata": {
        "colab": {
          "base_uri": "https://localhost:8080/"
        },
        "id": "JR2FBPvc4WXk",
        "outputId": "84a4718d-4063-41be-c468-8a455dae953f"
      },
      "source": [
        "Vehicletype = df.VehicleType.unique()\n",
        "len(Vehicletype)\n"
      ],
      "execution_count": null,
      "outputs": [
        {
          "output_type": "execute_result",
          "data": {
            "text/plain": [
              "17561"
            ]
          },
          "metadata": {
            "tags": []
          },
          "execution_count": 31
        }
      ]
    },
    {
      "cell_type": "code",
      "metadata": {
        "colab": {
          "base_uri": "https://localhost:8080/"
        },
        "id": "cMhWKqrC4uHY",
        "outputId": "9d27c794-acc6-4da1-8ba1-ec6c30221e28"
      },
      "source": [
        "make =df.Make.unique()\n",
        "len(make)"
      ],
      "execution_count": null,
      "outputs": [
        {
          "output_type": "execute_result",
          "data": {
            "text/plain": [
              "3550"
            ]
          },
          "metadata": {
            "tags": []
          },
          "execution_count": 32
        }
      ]
    },
    {
      "cell_type": "markdown",
      "metadata": {
        "id": "MUzXTJh-CBwm"
      },
      "source": [
        ""
      ]
    },
    {
      "cell_type": "code",
      "metadata": {
        "colab": {
          "base_uri": "https://localhost:8080/"
        },
        "id": "42nrVDdiB5-U",
        "outputId": "913cc752-b99d-4240-9519-68428d2929c5"
      },
      "source": [
        "Accident = df.Accident.value_counts()\n",
        "Accident"
      ],
      "execution_count": null,
      "outputs": [
        {
          "output_type": "execute_result",
          "data": {
            "text/plain": [
              "No    1292399\n",
              "Name: Accident, dtype: int64"
            ]
          },
          "metadata": {
            "tags": []
          },
          "execution_count": 64
        }
      ]
    },
    {
      "cell_type": "code",
      "metadata": {
        "colab": {
          "base_uri": "https://localhost:8080/"
        },
        "id": "aYsOCohNEqFK",
        "outputId": "29893f6f-93cf-4f5d-b678-ffab28d4516c"
      },
      "source": [
        "locationcount[:20]"
      ],
      "execution_count": null,
      "outputs": [
        {
          "output_type": "execute_result",
          "data": {
            "text/plain": [
              "IS 370 @ IS 270                            1981\n",
              "WAYNE AVE @ DALE DR                        1894\n",
              "W/B IS 370 @ IS 270                        1884\n",
              "WOODFIELD RD @ EMORY GROVE RD              1584\n",
              "RANDOLPH / COLIE                           1494\n",
              "10901 WESTLAKE DRIVE                       1452\n",
              "RT 28 @ BLACKBERRY DR                      1443\n",
              "MONTGOMERY VILLAGE AVE @ RUSSELL AVE       1360\n",
              "CLOPPER RD E/B @ ORCHARD HILLS DR          1323\n",
              "COLESVILLE RD @ GEORGIA AVE                1242\n",
              "RIDGE RD @ OBSERVATION DR                  1156\n",
              "FREDERICK RD/COLLEGE PKWY                  1112\n",
              "WAYNE AVE / DALE DR                        1064\n",
              "WB RT.198 @ SANTINI ROAD                   1033\n",
              "CONNECTICUT AVE / DEAN RD                   946\n",
              "GEORGIA AVE/COLESVILLE RD                   930\n",
              "GEORGIA AVE @ COLESVILLE RD                 849\n",
              "ASPEN HILL RD @ FRANKFORT DR                787\n",
              "GEORGIA AVE / CONNECTICUT AVE               783\n",
              "SHADY GROVE METRO EXIT @ SHADY GROVE RD     781\n",
              "Name: Location, dtype: int64"
            ]
          },
          "metadata": {
            "tags": []
          },
          "execution_count": 41
        }
      ]
    },
    {
      "cell_type": "code",
      "metadata": {
        "colab": {
          "base_uri": "https://localhost:8080/"
        },
        "id": "wPlavtnWE-rt",
        "outputId": "25a6de1d-d564-4507-c22e-9d08c8d24ea2"
      },
      "source": [
        "type(locationcount)"
      ],
      "execution_count": null,
      "outputs": [
        {
          "output_type": "execute_result",
          "data": {
            "text/plain": [
              "pandas.core.series.Series"
            ]
          },
          "metadata": {
            "tags": []
          },
          "execution_count": 42
        }
      ]
    },
    {
      "cell_type": "code",
      "metadata": {
        "colab": {
          "base_uri": "https://localhost:8080/",
          "height": 282
        },
        "id": "eNYbw6PNFIee",
        "outputId": "3f76e763-3381-4c4c-bb6e-c86cd0c856e7"
      },
      "source": [
        "locationcount[:20].plot(kind='barh')"
      ],
      "execution_count": null,
      "outputs": [
        {
          "output_type": "execute_result",
          "data": {
            "text/plain": [
              "<matplotlib.axes._subplots.AxesSubplot at 0x7f510d3d2b90>"
            ]
          },
          "metadata": {
            "tags": []
          },
          "execution_count": 43
        },
        {
          "output_type": "display_data",
          "data": {
            "image/png": "[encoded data removed]",
            "text/plain": [
              "<Figure size 432x288 with 1 Axes>"
            ]
          },
          "metadata": {
            "tags": [],
            "needs_background": "light"
          }
        }
      ]
    },
    {
      "cell_type": "code",
      "metadata": {
        "id": "rnu2CrHKFf_Q"
      },
      "source": [
        "import seaborn as sns\n",
        "sns.set_style(\"darkgrid\")"
      ],
      "execution_count": null,
      "outputs": []
    },
    {
      "cell_type": "code",
      "metadata": {
        "colab": {
          "base_uri": "https://localhost:8080/",
          "height": 303
        },
        "id": "1E6oW-e3Fo2O",
        "outputId": "64d7dd81-3423-411d-f95e-c62807bc77ab"
      },
      "source": [
        "sns.histplot(locationcount, log_scale=True)"
      ],
      "execution_count": null,
      "outputs": [
        {
          "output_type": "execute_result",
          "data": {
            "text/plain": [
              "<matplotlib.axes._subplots.AxesSubplot at 0x7f50fe8ff610>"
            ]
          },
          "metadata": {
            "tags": []
          },
          "execution_count": 46
        },
        {
          "output_type": "display_data",
          "data": {
            "image/png": "[encoded data removed]",
            "text/plain": [
              "<Figure size 432x288 with 1 Axes>"
            ]
          },
          "metadata": {
            "tags": []
          }
        }
      ]
    },
    {
      "cell_type": "code",
      "metadata": {
        "colab": {
          "base_uri": "https://localhost:8080/"
        },
        "id": "AgaWB35MGD8a",
        "outputId": "8c511cac-8458-465e-b2ba-4020f48c41c8"
      },
      "source": [
        "locationcount[locationcount == 1]"
      ],
      "execution_count": null,
      "outputs": [
        {
          "output_type": "execute_result",
          "data": {
            "text/plain": [
              "JONES LANE @ NORMAN DRIVE          1\n",
              "ROCKVILLE PIKE @ WILLOW LANE       1\n",
              "GEORGIA AVE  GEORGIAN WOODS        1\n",
              "118 PRIOR TO MIDDLEBROOK           1\n",
              "GERMANTOWN RD @ GEATSENECA HWY     1\n",
              "                                  ..\n",
              "NEW HAMPSHIRE AVE/CAPE MAY ROAD    1\n",
              "MORNINGWOOD DRIVE/                 1\n",
              "RT 29/ FAIRVIEW RD                 1\n",
              "BROOKVILLE RD @  WARREN ST         1\n",
              "PARKER AVE/NEWPORT MILL RD         1\n",
              "Name: Location, Length: 66981, dtype: int64"
            ]
          },
          "metadata": {
            "tags": []
          },
          "execution_count": 47
        }
      ]
    },
    {
      "cell_type": "code",
      "metadata": {
        "colab": {
          "base_uri": "https://localhost:8080/"
        },
        "id": "DPc7pOYrHyZN",
        "outputId": "2c652948-9ade-4c7f-ffa7-ececc1a69784"
      },
      "source": [
        "color = df.Color.value_counts()\n",
        "color"
      ],
      "execution_count": null,
      "outputs": [
        {
          "output_type": "execute_result",
          "data": {
            "text/plain": [
              "BLACK          259499\n",
              "SILVER         236828\n",
              "WHITE          197558\n",
              "GRAY           141092\n",
              "RED            101733\n",
              "BLUE            94814\n",
              "GREEN           49520\n",
              "GOLD            41177\n",
              "BLUE, DARK      27111\n",
              "TAN             27015\n",
              "MAROON          22408\n",
              "BLUE, LIGHT     17221\n",
              "BEIGE           15047\n",
              "GREEN, DK       14457\n",
              "GREEN, LGT       7345\n",
              "BROWN            6021\n",
              "YELLOW           4889\n",
              "ORANGE           4538\n",
              "BRONZE           2964\n",
              "PURPLE           2524\n",
              "MULTICOLOR       1021\n",
              "CREAM             837\n",
              "COPPER            414\n",
              "PINK              188\n",
              "CHROME             27\n",
              "CAMOUFLAGE         24\n",
              "Name: Color, dtype: int64"
            ]
          },
          "metadata": {
            "tags": []
          },
          "execution_count": 53
        }
      ]
    },
    {
      "cell_type": "code",
      "metadata": {
        "colab": {
          "base_uri": "https://localhost:8080/",
          "height": 282
        },
        "id": "QnHkUGQ8KFkA",
        "outputId": "e12ed42b-1e96-487e-cd96-2efdaf91a1a4"
      },
      "source": [
        "color.plot(kind='barh')"
      ],
      "execution_count": null,
      "outputs": [
        {
          "output_type": "execute_result",
          "data": {
            "text/plain": [
              "<matplotlib.axes._subplots.AxesSubplot at 0x7f50fe4e33d0>"
            ]
          },
          "metadata": {
            "tags": []
          },
          "execution_count": 54
        },
        {
          "output_type": "display_data",
          "data": {
            "image/png": "[encoded data removed]",
            "text/plain": [
              "<Figure size 432x288 with 1 Axes>"
            ]
          },
          "metadata": {
            "tags": []
          }
        }
      ]
    },
    {
      "cell_type": "code",
      "metadata": {
        "colab": {
          "base_uri": "https://localhost:8080/"
        },
        "id": "JtLrD1vLKowT",
        "outputId": "de07a32e-1adc-4e20-9d1d-83d66ae382f0"
      },
      "source": [
        "df.Latitude"
      ],
      "execution_count": null,
      "outputs": [
        {
          "output_type": "execute_result",
          "data": {
            "text/plain": [
              "0                NaN\n",
              "1          38.981725\n",
              "2          39.162888\n",
              "3          39.056975\n",
              "4                NaN\n",
              "             ...    \n",
              "1292394    39.156846\n",
              "1292395    39.143137\n",
              "1292396    39.152770\n",
              "1292397    39.080061\n",
              "1292398    39.017139\n",
              "Name: Latitude, Length: 1292399, dtype: float64"
            ]
          },
          "metadata": {
            "tags": []
          },
          "execution_count": 56
        }
      ]
    },
    {
      "cell_type": "code",
      "metadata": {
        "colab": {
          "base_uri": "https://localhost:8080/"
        },
        "id": "ARKJqCV7K2HR",
        "outputId": "5d9664e8-a8dd-4398-bf1f-4014ad3e9595"
      },
      "source": [
        "df.Longitude"
      ],
      "execution_count": null,
      "outputs": [
        {
          "output_type": "execute_result",
          "data": {
            "text/plain": [
              "0                NaN\n",
              "1         -77.092757\n",
              "2         -77.229088\n",
              "3         -76.954633\n",
              "4                NaN\n",
              "             ...    \n",
              "1292394   -77.202903\n",
              "1292395   -77.158675\n",
              "1292396   -77.220292\n",
              "1292397   -77.074347\n",
              "1292398   -77.006379\n",
              "Name: Longitude, Length: 1292399, dtype: float64"
            ]
          },
          "metadata": {
            "tags": []
          },
          "execution_count": 57
        }
      ]
    },
    {
      "cell_type": "code",
      "metadata": {
        "id": "HCbBCeQ9LAQ9"
      },
      "source": [
        "sample_df = df.sample(int(0.1 * len(df)))"
      ],
      "execution_count": null,
      "outputs": []
    },
    {
      "cell_type": "code",
      "metadata": {
        "colab": {
          "base_uri": "https://localhost:8080/",
          "height": 296
        },
        "id": "4g-cbictLGc-",
        "outputId": "274e4de6-a875-4d6b-8aa7-2bbd884dd07a"
      },
      "source": [
        "sns.scatterplot(x=sample_df.Longitude, y=sample_df.Latitude, size=0.001)"
      ],
      "execution_count": null,
      "outputs": [
        {
          "output_type": "execute_result",
          "data": {
            "text/plain": [
              "<matplotlib.axes._subplots.AxesSubplot at 0x7f510d303750>"
            ]
          },
          "metadata": {
            "tags": []
          },
          "execution_count": 61
        },
        {
          "output_type": "display_data",
          "data": {
            "image/png": "[encoded data removed]",
            "text/plain": [
              "<Figure size 432x288 with 1 Axes>"
            ]
          },
          "metadata": {
            "tags": []
          }
        }
      ]
    },
    {
      "cell_type": "code",
      "metadata": {
        "colab": {
          "base_uri": "https://localhost:8080/"
        },
        "id": "a6KcGd-LPkkB",
        "outputId": "65ef7c77-cb73-4e4b-fb45-b206739e0785"
      },
      "source": [
        "wrokzone = df[\"Work Zone\"].unique()\n",
        "len(wrokzone)"
      ],
      "execution_count": null,
      "outputs": [
        {
          "output_type": "execute_result",
          "data": {
            "text/plain": [
              "2"
            ]
          },
          "metadata": {
            "tags": []
          },
          "execution_count": 70
        }
      ]
    },
    {
      "cell_type": "code",
      "metadata": {
        "colab": {
          "base_uri": "https://localhost:8080/",
          "height": 297
        },
        "id": "ziSW6qkSUQfP",
        "outputId": "a9dbcfd0-b3c4-453e-e04f-7d00db05e5e3"
      },
      "source": [
        "sub_df = pd.DataFrame(zip(df['Article'],df['Alcohol'],df['Belts'],df['Fatal']), columns=['violation','alcohol','belts','fatal'])\n",
        "sub_df['alcohol'] = sub_df.alcohol.eq('Yes').mul(1)\n",
        "sub_df['belts'] = sub_df.belts.eq('Yes').mul(1)\n",
        "sub_df['fatal'] = sub_df.fatal.eq('Yes').mul(1)\n",
        "sub_df.set_index('violation').describe()"
      ],
      "execution_count": null,
      "outputs": [
        {
          "output_type": "execute_result",
          "data": {
            "text/html": [
              "<div>\n",
              "<style scoped>\n",
              "    .dataframe tbody tr th:only-of-type {\n",
              "        vertical-align: middle;\n",
              "    }\n",
              "\n",
              "    .dataframe tbody tr th {\n",
              "        vertical-align: top;\n",
              "    }\n",
              "\n",
              "    .dataframe thead th {\n",
              "        text-align: right;\n",
              "    }\n",
              "</style>\n",
              "<table border=\"1\" class=\"dataframe\">\n",
              "  <thead>\n",
              "    <tr style=\"text-align: right;\">\n",
              "      <th></th>\n",
              "      <th>alcohol</th>\n",
              "      <th>belts</th>\n",
              "      <th>fatal</th>\n",
              "    </tr>\n",
              "  </thead>\n",
              "  <tbody>\n",
              "    <tr>\n",
              "      <th>count</th>\n",
              "      <td>1.292399e+06</td>\n",
              "      <td>1.292399e+06</td>\n",
              "      <td>1.292399e+06</td>\n",
              "    </tr>\n",
              "    <tr>\n",
              "      <th>mean</th>\n",
              "      <td>1.708451e-03</td>\n",
              "      <td>3.438799e-02</td>\n",
              "      <td>2.158776e-04</td>\n",
              "    </tr>\n",
              "    <tr>\n",
              "      <th>std</th>\n",
              "      <td>4.129810e-02</td>\n",
              "      <td>1.822237e-01</td>\n",
              "      <td>1.469119e-02</td>\n",
              "    </tr>\n",
              "    <tr>\n",
              "      <th>min</th>\n",
              "      <td>0.000000e+00</td>\n",
              "      <td>0.000000e+00</td>\n",
              "      <td>0.000000e+00</td>\n",
              "    </tr>\n",
              "    <tr>\n",
              "      <th>25%</th>\n",
              "      <td>0.000000e+00</td>\n",
              "      <td>0.000000e+00</td>\n",
              "      <td>0.000000e+00</td>\n",
              "    </tr>\n",
              "    <tr>\n",
              "      <th>50%</th>\n",
              "      <td>0.000000e+00</td>\n",
              "      <td>0.000000e+00</td>\n",
              "      <td>0.000000e+00</td>\n",
              "    </tr>\n",
              "    <tr>\n",
              "      <th>75%</th>\n",
              "      <td>0.000000e+00</td>\n",
              "      <td>0.000000e+00</td>\n",
              "      <td>0.000000e+00</td>\n",
              "    </tr>\n",
              "    <tr>\n",
              "      <th>max</th>\n",
              "      <td>1.000000e+00</td>\n",
              "      <td>1.000000e+00</td>\n",
              "      <td>1.000000e+00</td>\n",
              "    </tr>\n",
              "  </tbody>\n",
              "</table>\n",
              "</div>"
            ],
            "text/plain": [
              "            alcohol         belts         fatal\n",
              "count  1.292399e+06  1.292399e+06  1.292399e+06\n",
              "mean   1.708451e-03  3.438799e-02  2.158776e-04\n",
              "std    4.129810e-02  1.822237e-01  1.469119e-02\n",
              "min    0.000000e+00  0.000000e+00  0.000000e+00\n",
              "25%    0.000000e+00  0.000000e+00  0.000000e+00\n",
              "50%    0.000000e+00  0.000000e+00  0.000000e+00\n",
              "75%    0.000000e+00  0.000000e+00  0.000000e+00\n",
              "max    1.000000e+00  1.000000e+00  1.000000e+00"
            ]
          },
          "metadata": {
            "tags": []
          },
          "execution_count": 71
        }
      ]
    },
    {
      "cell_type": "code",
      "metadata": {
        "colab": {
          "base_uri": "https://localhost:8080/",
          "height": 142
        },
        "id": "Yhea1nSbUnUM",
        "outputId": "07a85076-1c28-4a38-a311-055b7b7a8200"
      },
      "source": [
        "import numpy as np\n",
        "sub_df1 = pd.DataFrame(zip(df['Violation Type'],df['Alcohol'],df['Belts'],df['Fatal']), columns=['violation','alcohol','belts','fatal'])\n",
        "sub_df1['alcohol'] = sub_df1.alcohol.eq('Yes').mul(1)\n",
        "sub_df1['belts'] = sub_df1.belts.eq('Yes').mul(1)\n",
        "sub_df1['fatal'] = sub_df1.fatal.eq('Yes').mul(1)\n",
        "table1 = pd.pivot_table(sub_df1, values=['alcohol','belts','fatal'], columns='violation', aggfunc=np.mean)\n",
        "table1"
      ],
      "execution_count": null,
      "outputs": [
        {
          "output_type": "execute_result",
          "data": {
            "text/html": [
              "<div>\n",
              "<style scoped>\n",
              "    .dataframe tbody tr th:only-of-type {\n",
              "        vertical-align: middle;\n",
              "    }\n",
              "\n",
              "    .dataframe tbody tr th {\n",
              "        vertical-align: top;\n",
              "    }\n",
              "\n",
              "    .dataframe thead th {\n",
              "        text-align: right;\n",
              "    }\n",
              "</style>\n",
              "<table border=\"1\" class=\"dataframe\">\n",
              "  <thead>\n",
              "    <tr style=\"text-align: right;\">\n",
              "      <th>violation</th>\n",
              "      <th>Citation</th>\n",
              "      <th>ESERO</th>\n",
              "      <th>SERO</th>\n",
              "      <th>Warning</th>\n",
              "    </tr>\n",
              "  </thead>\n",
              "  <tbody>\n",
              "    <tr>\n",
              "      <th>alcohol</th>\n",
              "      <td>0.003427</td>\n",
              "      <td>0.000109</td>\n",
              "      <td>0.002169</td>\n",
              "      <td>0.000190</td>\n",
              "    </tr>\n",
              "    <tr>\n",
              "      <th>belts</th>\n",
              "      <td>0.043493</td>\n",
              "      <td>0.028027</td>\n",
              "      <td>0.069414</td>\n",
              "      <td>0.026080</td>\n",
              "    </tr>\n",
              "    <tr>\n",
              "      <th>fatal</th>\n",
              "      <td>0.000310</td>\n",
              "      <td>0.000047</td>\n",
              "      <td>0.000000</td>\n",
              "      <td>0.000142</td>\n",
              "    </tr>\n",
              "  </tbody>\n",
              "</table>\n",
              "</div>"
            ],
            "text/plain": [
              "violation  Citation     ESERO      SERO   Warning\n",
              "alcohol    0.003427  0.000109  0.002169  0.000190\n",
              "belts      0.043493  0.028027  0.069414  0.026080\n",
              "fatal      0.000310  0.000047  0.000000  0.000142"
            ]
          },
          "metadata": {
            "tags": []
          },
          "execution_count": 74
        }
      ]
    },
    {
      "cell_type": "code",
      "metadata": {
        "colab": {
          "base_uri": "https://localhost:8080/"
        },
        "id": "hY9763r7sI2c",
        "outputId": "027864c1-5c4e-4c07-bd25-1ba0a4b94bc7"
      },
      "source": [
        "df_chi = pd.read_csv('/content/traffic-violations-in-maryland-county/Traffic_Violations.csv')"
      ],
      "execution_count": null,
      "outputs": [
        {
          "output_type": "stream",
          "text": [
            "/usr/local/lib/python3.7/dist-packages/IPython/core/interactiveshell.py:2718: DtypeWarning: Columns (26) have mixed types.Specify dtype option on import or set low_memory=False.\n",
            "  interactivity=interactivity, compiler=compiler, result=result)\n"
          ],
          "name": "stderr"
        }
      ]
    },
    {
      "cell_type": "code",
      "metadata": {
        "colab": {
          "base_uri": "https://localhost:8080/"
        },
        "id": "9QQSsX5muhwQ",
        "outputId": "a7f9e05f-0563-45cc-b178-78eef3435ca2"
      },
      "source": [
        "contingency_table=pd.crosstab(df_chi[\"Gender\"],df_chi[\"Belts\"])\n",
        "print('contingency_table :-\\n',contingency_table)"
      ],
      "execution_count": null,
      "outputs": [
        {
          "output_type": "stream",
          "text": [
            "contingency_table :-\n",
            " Belts       No    Yes\n",
            "Gender               \n",
            "F       409196  15901\n",
            "M       837330  28532\n",
            "U         1430     10\n"
          ],
          "name": "stdout"
        }
      ]
    },
    {
      "cell_type": "code",
      "metadata": {
        "colab": {
          "base_uri": "https://localhost:8080/"
        },
        "id": "O9gxnioAwvGp",
        "outputId": "2ba80086-5eb8-4a29-fcd4-904fdac552cf"
      },
      "source": [
        "Observed_Values = contingency_table.values \n",
        "print(\"Observed Values :-\\n\",Observed_Values)"
      ],
      "execution_count": null,
      "outputs": [
        {
          "output_type": "stream",
          "text": [
            "Observed Values :-\n",
            " [[409196  15901]\n",
            " [837330  28532]\n",
            " [  1430     10]]\n"
          ],
          "name": "stdout"
        }
      ]
    },
    {
      "cell_type": "code",
      "metadata": {
        "colab": {
          "base_uri": "https://localhost:8080/"
        },
        "id": "Ixyo4LUuw2dz",
        "outputId": "31a360ee-742c-4981-abee-ba44540b0935"
      },
      "source": [
        "\n",
        "b=stats.chi2_contingency(contingency_table)\n",
        "Expected_Values = b[3]\n",
        "print(\"Expected Values :-\\n\",Expected_Values)"
      ],
      "execution_count": null,
      "outputs": [
        {
          "output_type": "stream",
          "text": [
            "Expected Values :-\n",
            " [[4.10478770e+05 1.46182301e+04]\n",
            " [8.36086749e+05 2.97752512e+04]\n",
            " [1.39048130e+03 4.95187013e+01]]\n"
          ],
          "name": "stdout"
        }
      ]
    },
    {
      "cell_type": "code",
      "metadata": {
        "colab": {
          "base_uri": "https://localhost:8080/"
        },
        "id": "TIq46fzMxpv9",
        "outputId": "60d84f47-ed50-4374-903c-8a03e2221595"
      },
      "source": [
        "no_of_rows=len(contingency_table.iloc[0:2,0])\n",
        "no_of_columns=len(contingency_table.iloc[0,0:2])\n",
        "df11=(no_of_rows-1)*(no_of_columns-1)\n",
        "print(\"Degree of Freedom:-\",df)\n",
        "alpha = 0.05"
      ],
      "execution_count": null,
      "outputs": [
        {
          "output_type": "stream",
          "text": [
            "Degree of Freedom:-         Date Of Stop  ...                            Geolocation\n",
            "0         09/24/2013  ...                                    NaN\n",
            "1         08/29/2017  ...         (38.981725, -77.0927566666667)\n",
            "2         12/01/2014  ...  (39.1628883333333, -77.2290883333333)\n",
            "3         08/29/2017  ...         (39.056975, -76.9546333333333)\n",
            "4         08/28/2017  ...                                    NaN\n",
            "...              ...  ...                                    ...\n",
            "1292394   12/14/2012  ...  (39.1568459666667, -77.2029032166667)\n",
            "1292395   12/15/2012  ...  (39.1431373333333, -77.1586750333333)\n",
            "1292396   12/15/2012  ...  (39.1527700833333, -77.2202923833333)\n",
            "1292397   12/16/2012  ...        (39.0800610666667, -77.0743472)\n",
            "1292398   12/21/2012  ...  (39.0171391166667, -77.0063790833333)\n",
            "\n",
            "[1292399 rows x 35 columns]\n"
          ],
          "name": "stdout"
        }
      ]
    },
    {
      "cell_type": "code",
      "metadata": {
        "colab": {
          "base_uri": "https://localhost:8080/"
        },
        "id": "VCDet9EAxu_I",
        "outputId": "be2b6563-2e99-4382-9879-35de2ea5e9b1"
      },
      "source": [
        "from scipy.stats import chi2\n",
        "chi_square=sum([(o-e)**2./e for o,e in zip(Observed_Values,Expected_Values)])\n",
        "chi_square_statistic=chi_square[0]+chi_square[1]\n",
        "print(\"chi-square statistic:-\",chi_square_statistic)"
      ],
      "execution_count": null,
      "outputs": [
        {
          "output_type": "stream",
          "text": [
            "chi-square statistic:- 202.9949089652516\n"
          ],
          "name": "stdout"
        }
      ]
    },
    {
      "cell_type": "code",
      "metadata": {
        "colab": {
          "base_uri": "https://localhost:8080/"
        },
        "id": "O3izlUjWz48C",
        "outputId": "b7dba8af-debe-4887-9b77-aad5477aaaa0"
      },
      "source": [
        "critical_value=chi2.ppf(q=1-alpha,df=df11)\n",
        "print('critical_value:',critical_value)"
      ],
      "execution_count": null,
      "outputs": [
        {
          "output_type": "stream",
          "text": [
            "critical_value: 3.841458820694124\n"
          ],
          "name": "stdout"
        }
      ]
    },
    {
      "cell_type": "code",
      "metadata": {
        "colab": {
          "base_uri": "https://localhost:8080/"
        },
        "id": "zjLX1jqLz-gY",
        "outputId": "6e8c1817-0c49-48ae-ba17-d0fbb2c9d2c7"
      },
      "source": [
        "\n",
        "#p-value\n",
        "p_value=1-chi2.cdf(x=chi_square_statistic,df=df11)\n",
        "print('p-value:',p_value)"
      ],
      "execution_count": null,
      "outputs": [
        {
          "output_type": "stream",
          "text": [
            "p-value: 0.0\n"
          ],
          "name": "stdout"
        }
      ]
    },
    {
      "cell_type": "code",
      "metadata": {
        "colab": {
          "base_uri": "https://localhost:8080/"
        },
        "id": "6yehzUXe0Fs0",
        "outputId": "6aeadf4f-4e34-4f78-bbc4-541f373466b5"
      },
      "source": [
        "print('Significance level: ',alpha)\n",
        "print('Degree of Freedom: ',df11)\n",
        "print('chi-square statistic:',chi_square_statistic)\n",
        "print('critical_value:',critical_value)\n",
        "print('p-value:',p_value)"
      ],
      "execution_count": null,
      "outputs": [
        {
          "output_type": "stream",
          "text": [
            "Significance level:  0.05\n",
            "Degree of Freedom:  1\n",
            "chi-square statistic: 202.9949089652516\n",
            "critical_value: 3.841458820694124\n",
            "p-value: 0.0\n"
          ],
          "name": "stdout"
        }
      ]
    },
    {
      "cell_type": "code",
      "metadata": {
        "colab": {
          "base_uri": "https://localhost:8080/"
        },
        "id": "nia_sW7p0LPY",
        "outputId": "818f88c1-78f3-4e4a-ab0d-cfc384e18253"
      },
      "source": [
        "if chi_square_statistic>=critical_value:\n",
        "    print(\"Reject H0,There is a relationship between 2 categorical variables\")\n",
        "else:\n",
        "    print(\"Retain H0,There is no relationship between 2 categorical variables\")\n",
        "    \n",
        "if p_value<=alpha:\n",
        "    print(\"Reject H0,There is a relationship between 2 categorical variables\")\n",
        "else:\n",
        "    print(\"Retain H0,There is no relationship between 2 categorical variables\")"
      ],
      "execution_count": null,
      "outputs": [
        {
          "output_type": "stream",
          "text": [
            "Reject H0,There is a relationship between 2 categorical variables\n",
            "Reject H0,There is a relationship between 2 categorical variables\n"
          ],
          "name": "stdout"
        }
      ]
    },
    {
      "cell_type": "code",
      "metadata": {
        "id": "k8b7vrYM0r2M",
        "colab": {
          "base_uri": "https://localhost:8080/",
          "height": 282
        },
        "outputId": "f19e2412-595e-4a83-f61f-dd517283e20d"
      },
      "source": [
        "import numpy as np\n",
        "import matplotlib.pyplot as plt\n",
        "from scipy.stats import chi2\n",
        "\n",
        "#x-axis ranges from 0 to 20 with .001 steps\n",
        "x = np.arange(0, 20, 0.001)\n",
        "\n",
        "#define multiple Chi-square distributions\n",
        "plt.plot(x, chi2.pdf(x, df=4), label='df: 4')\n",
        "plt.plot(x, chi2.pdf(x, df=8), label='df: 8') \n",
        "plt.plot(x, chi2.pdf(x, df=12), label='df: 12') \n",
        "\n",
        "#add legend to plot\n",
        "plt.legend()"
      ],
      "execution_count": null,
      "outputs": [
        {
          "output_type": "execute_result",
          "data": {
            "text/plain": [
              "<matplotlib.legend.Legend at 0x7fba41fc2ad0>"
            ]
          },
          "metadata": {
            "tags": []
          },
          "execution_count": 77
        },
        {
          "output_type": "display_data",
          "data": {
            "image/png": "[encoded data removed]",
            "text/plain": [
              "<Figure size 432x288 with 1 Axes>"
            ]
          },
          "metadata": {
            "tags": [],
            "needs_background": "light"
          }
        }
      ]
    },
    {
      "cell_type": "code",
      "metadata": {
        "colab": {
          "base_uri": "https://localhost:8080/"
        },
        "id": "AsnaBHKNFo-k",
        "outputId": "24aebfbb-fb95-4894-b6a6-da5f0be92259"
      },
      "source": [
        "df.columns\n",
        "\n"
      ],
      "execution_count": null,
      "outputs": [
        {
          "output_type": "execute_result",
          "data": {
            "text/plain": [
              "Index(['Date Of Stop', 'Time Of Stop', 'Agency', 'SubAgency', 'Description',\n",
              "       'Location', 'Latitude', 'Longitude', 'Accident', 'Belts',\n",
              "       'Personal Injury', 'Property Damage', 'Fatal', 'Commercial License',\n",
              "       'HAZMAT', 'Commercial Vehicle', 'Alcohol', 'Work Zone', 'State',\n",
              "       'VehicleType', 'Year', 'Make', 'Model', 'Color', 'Violation Type',\n",
              "       'Charge', 'Article', 'Contributed To Accident', 'Race', 'Gender',\n",
              "       'Driver City', 'Driver State', 'DL State', 'Arrest Type',\n",
              "       'Geolocation'],\n",
              "      dtype='object')"
            ]
          },
          "metadata": {
            "tags": []
          },
          "execution_count": 12
        }
      ]
    },
    {
      "cell_type": "code",
      "metadata": {
        "colab": {
          "base_uri": "https://localhost:8080/",
          "height": 328
        },
        "id": "xdN4mJsnKvwP",
        "outputId": "f3e92d32-5f8a-4a02-9e76-acf841a46a5b"
      },
      "source": [
        "\n",
        "cdf = df[['Alcohol','Belts','Gender','Fatal','Accident']]\n",
        "cdf.head(9)\n"
      ],
      "execution_count": null,
      "outputs": [
        {
          "output_type": "execute_result",
          "data": {
            "text/html": [
              "<div>\n",
              "<style scoped>\n",
              "    .dataframe tbody tr th:only-of-type {\n",
              "        vertical-align: middle;\n",
              "    }\n",
              "\n",
              "    .dataframe tbody tr th {\n",
              "        vertical-align: top;\n",
              "    }\n",
              "\n",
              "    .dataframe thead th {\n",
              "        text-align: right;\n",
              "    }\n",
              "</style>\n",
              "<table border=\"1\" class=\"dataframe\">\n",
              "  <thead>\n",
              "    <tr style=\"text-align: right;\">\n",
              "      <th></th>\n",
              "      <th>Alcohol</th>\n",
              "      <th>Belts</th>\n",
              "      <th>Gender</th>\n",
              "      <th>Fatal</th>\n",
              "      <th>Accident</th>\n",
              "    </tr>\n",
              "  </thead>\n",
              "  <tbody>\n",
              "    <tr>\n",
              "      <th>0</th>\n",
              "      <td>No</td>\n",
              "      <td>No</td>\n",
              "      <td>M</td>\n",
              "      <td>No</td>\n",
              "      <td>No</td>\n",
              "    </tr>\n",
              "    <tr>\n",
              "      <th>1</th>\n",
              "      <td>No</td>\n",
              "      <td>No</td>\n",
              "      <td>F</td>\n",
              "      <td>No</td>\n",
              "      <td>No</td>\n",
              "    </tr>\n",
              "    <tr>\n",
              "      <th>2</th>\n",
              "      <td>No</td>\n",
              "      <td>No</td>\n",
              "      <td>F</td>\n",
              "      <td>No</td>\n",
              "      <td>No</td>\n",
              "    </tr>\n",
              "    <tr>\n",
              "      <th>3</th>\n",
              "      <td>No</td>\n",
              "      <td>No</td>\n",
              "      <td>M</td>\n",
              "      <td>No</td>\n",
              "      <td>No</td>\n",
              "    </tr>\n",
              "    <tr>\n",
              "      <th>4</th>\n",
              "      <td>No</td>\n",
              "      <td>No</td>\n",
              "      <td>M</td>\n",
              "      <td>No</td>\n",
              "      <td>No</td>\n",
              "    </tr>\n",
              "    <tr>\n",
              "      <th>5</th>\n",
              "      <td>No</td>\n",
              "      <td>No</td>\n",
              "      <td>F</td>\n",
              "      <td>No</td>\n",
              "      <td>No</td>\n",
              "    </tr>\n",
              "    <tr>\n",
              "      <th>6</th>\n",
              "      <td>No</td>\n",
              "      <td>No</td>\n",
              "      <td>M</td>\n",
              "      <td>No</td>\n",
              "      <td>No</td>\n",
              "    </tr>\n",
              "    <tr>\n",
              "      <th>7</th>\n",
              "      <td>No</td>\n",
              "      <td>No</td>\n",
              "      <td>M</td>\n",
              "      <td>No</td>\n",
              "      <td>No</td>\n",
              "    </tr>\n",
              "    <tr>\n",
              "      <th>8</th>\n",
              "      <td>No</td>\n",
              "      <td>No</td>\n",
              "      <td>M</td>\n",
              "      <td>No</td>\n",
              "      <td>No</td>\n",
              "    </tr>\n",
              "  </tbody>\n",
              "</table>\n",
              "</div>"
            ],
            "text/plain": [
              "  Alcohol Belts Gender Fatal Accident\n",
              "0      No    No      M    No       No\n",
              "1      No    No      F    No       No\n",
              "2      No    No      F    No       No\n",
              "3      No    No      M    No       No\n",
              "4      No    No      M    No       No\n",
              "5      No    No      F    No       No\n",
              "6      No    No      M    No       No\n",
              "7      No    No      M    No       No\n",
              "8      No    No      M    No       No"
            ]
          },
          "metadata": {
            "tags": []
          },
          "execution_count": 15
        }
      ]
    },
    {
      "cell_type": "code",
      "metadata": {
        "id": "tHzBqQE4vO91"
      },
      "source": [
        ""
      ],
      "execution_count": null,
      "outputs": []
    },
    {
      "cell_type": "code",
      "metadata": {
        "colab": {
          "base_uri": "https://localhost:8080/"
        },
        "id": "FEgdRcmDOd37",
        "outputId": "dea1c176-443b-4834-b441-1b099e992bd4"
      },
      "source": [
        "df.info()\n"
      ],
      "execution_count": null,
      "outputs": [
        {
          "output_type": "stream",
          "text": [
            "<class 'pandas.core.frame.DataFrame'>\n",
            "RangeIndex: 1292399 entries, 0 to 1292398\n",
            "Data columns (total 35 columns):\n",
            " #   Column                   Non-Null Count    Dtype  \n",
            "---  ------                   --------------    -----  \n",
            " 0   Date Of Stop             1292399 non-null  object \n",
            " 1   Time Of Stop             1292399 non-null  object \n",
            " 2   Agency                   1292399 non-null  object \n",
            " 3   SubAgency                1292389 non-null  object \n",
            " 4   Description              1292390 non-null  object \n",
            " 5   Location                 1292397 non-null  object \n",
            " 6   Latitude                 1197045 non-null  float64\n",
            " 7   Longitude                1197045 non-null  float64\n",
            " 8   Accident                 1292399 non-null  object \n",
            " 9   Belts                    1292399 non-null  object \n",
            " 10  Personal Injury          1292399 non-null  object \n",
            " 11  Property Damage          1292399 non-null  object \n",
            " 12  Fatal                    1292399 non-null  object \n",
            " 13  Commercial License       1292399 non-null  object \n",
            " 14  HAZMAT                   1292399 non-null  object \n",
            " 15  Commercial Vehicle       1292399 non-null  object \n",
            " 16  Alcohol                  1292399 non-null  object \n",
            " 17  Work Zone                1292399 non-null  object \n",
            " 18  State                    1292340 non-null  object \n",
            " 19  VehicleType              1292399 non-null  object \n",
            " 20  Year                     1284325 non-null  float64\n",
            " 21  Make                     1292342 non-null  object \n",
            " 22  Model                    1292212 non-null  object \n",
            " 23  Color                    1276272 non-null  object \n",
            " 24  Violation Type           1292399 non-null  object \n",
            " 25  Charge                   1292399 non-null  object \n",
            " 26  Article                  1227230 non-null  object \n",
            " 27  Contributed To Accident  1292399 non-null  object \n",
            " 28  Race                     1292399 non-null  object \n",
            " 29  Gender                   1292399 non-null  object \n",
            " 30  Driver City              1292182 non-null  object \n",
            " 31  Driver State             1292388 non-null  object \n",
            " 32  DL State                 1291470 non-null  object \n",
            " 33  Arrest Type              1292399 non-null  object \n",
            " 34  Geolocation              1197045 non-null  object \n",
            "dtypes: float64(3), object(32)\n",
            "memory usage: 345.1+ MB\n"
          ],
          "name": "stdout"
        }
      ]
    },
    {
      "cell_type": "code",
      "metadata": {
        "colab": {
          "base_uri": "https://localhost:8080/",
          "height": 297
        },
        "id": "VZzaAW3fLPv7",
        "outputId": "8826cfad-2c9e-46c3-980f-ecad9bdd319e"
      },
      "source": [
        "dummy_var = ['Accident', 'Alcohol', 'Belts', 'Gender', 'Fatal']\n",
        "df_oh = pd.get_dummies( df, columns= dummy_var, drop_first= True)\n",
        "df_oh.describe()\n",
        "\n",
        "\n"
      ],
      "execution_count": null,
      "outputs": [
        {
          "output_type": "execute_result",
          "data": {
            "text/html": [
              "<div>\n",
              "<style scoped>\n",
              "    .dataframe tbody tr th:only-of-type {\n",
              "        vertical-align: middle;\n",
              "    }\n",
              "\n",
              "    .dataframe tbody tr th {\n",
              "        vertical-align: top;\n",
              "    }\n",
              "\n",
              "    .dataframe thead th {\n",
              "        text-align: right;\n",
              "    }\n",
              "</style>\n",
              "<table border=\"1\" class=\"dataframe\">\n",
              "  <thead>\n",
              "    <tr style=\"text-align: right;\">\n",
              "      <th></th>\n",
              "      <th>Latitude</th>\n",
              "      <th>Longitude</th>\n",
              "      <th>Year</th>\n",
              "      <th>Alcohol_Yes</th>\n",
              "      <th>Belts_Yes</th>\n",
              "      <th>Gender_M</th>\n",
              "      <th>Gender_U</th>\n",
              "      <th>Fatal_Yes</th>\n",
              "    </tr>\n",
              "  </thead>\n",
              "  <tbody>\n",
              "    <tr>\n",
              "      <th>count</th>\n",
              "      <td>1.197045e+06</td>\n",
              "      <td>1.197045e+06</td>\n",
              "      <td>1.284325e+06</td>\n",
              "      <td>1.292399e+06</td>\n",
              "      <td>1.292399e+06</td>\n",
              "      <td>1.292399e+06</td>\n",
              "      <td>1.292399e+06</td>\n",
              "      <td>1.292399e+06</td>\n",
              "    </tr>\n",
              "    <tr>\n",
              "      <th>mean</th>\n",
              "      <td>3.907435e+01</td>\n",
              "      <td>-7.710341e+01</td>\n",
              "      <td>2.005139e+03</td>\n",
              "      <td>1.708451e-03</td>\n",
              "      <td>3.438799e-02</td>\n",
              "      <td>6.699649e-01</td>\n",
              "      <td>1.114207e-03</td>\n",
              "      <td>2.158776e-04</td>\n",
              "    </tr>\n",
              "    <tr>\n",
              "      <th>std</th>\n",
              "      <td>1.062592e+00</td>\n",
              "      <td>9.588788e-01</td>\n",
              "      <td>8.720162e+01</td>\n",
              "      <td>4.129810e-02</td>\n",
              "      <td>1.822237e-01</td>\n",
              "      <td>4.702256e-01</td>\n",
              "      <td>3.336115e-02</td>\n",
              "      <td>1.469119e-02</td>\n",
              "    </tr>\n",
              "    <tr>\n",
              "      <th>min</th>\n",
              "      <td>-9.461099e+01</td>\n",
              "      <td>-1.512560e+02</td>\n",
              "      <td>0.000000e+00</td>\n",
              "      <td>0.000000e+00</td>\n",
              "      <td>0.000000e+00</td>\n",
              "      <td>0.000000e+00</td>\n",
              "      <td>0.000000e+00</td>\n",
              "      <td>0.000000e+00</td>\n",
              "    </tr>\n",
              "    <tr>\n",
              "      <th>25%</th>\n",
              "      <td>3.903149e+01</td>\n",
              "      <td>-7.719467e+01</td>\n",
              "      <td>2.002000e+03</td>\n",
              "      <td>0.000000e+00</td>\n",
              "      <td>0.000000e+00</td>\n",
              "      <td>0.000000e+00</td>\n",
              "      <td>0.000000e+00</td>\n",
              "      <td>0.000000e+00</td>\n",
              "    </tr>\n",
              "    <tr>\n",
              "      <th>50%</th>\n",
              "      <td>3.907336e+01</td>\n",
              "      <td>-7.709332e+01</td>\n",
              "      <td>2.006000e+03</td>\n",
              "      <td>0.000000e+00</td>\n",
              "      <td>0.000000e+00</td>\n",
              "      <td>1.000000e+00</td>\n",
              "      <td>0.000000e+00</td>\n",
              "      <td>0.000000e+00</td>\n",
              "    </tr>\n",
              "    <tr>\n",
              "      <th>75%</th>\n",
              "      <td>3.913867e+01</td>\n",
              "      <td>-7.704381e+01</td>\n",
              "      <td>2.011000e+03</td>\n",
              "      <td>0.000000e+00</td>\n",
              "      <td>0.000000e+00</td>\n",
              "      <td>1.000000e+00</td>\n",
              "      <td>0.000000e+00</td>\n",
              "      <td>0.000000e+00</td>\n",
              "    </tr>\n",
              "    <tr>\n",
              "      <th>max</th>\n",
              "      <td>7.718716e+01</td>\n",
              "      <td>4.151207e+01</td>\n",
              "      <td>9.999000e+03</td>\n",
              "      <td>1.000000e+00</td>\n",
              "      <td>1.000000e+00</td>\n",
              "      <td>1.000000e+00</td>\n",
              "      <td>1.000000e+00</td>\n",
              "      <td>1.000000e+00</td>\n",
              "    </tr>\n",
              "  </tbody>\n",
              "</table>\n",
              "</div>"
            ],
            "text/plain": [
              "           Latitude     Longitude  ...      Gender_U     Fatal_Yes\n",
              "count  1.197045e+06  1.197045e+06  ...  1.292399e+06  1.292399e+06\n",
              "mean   3.907435e+01 -7.710341e+01  ...  1.114207e-03  2.158776e-04\n",
              "std    1.062592e+00  9.588788e-01  ...  3.336115e-02  1.469119e-02\n",
              "min   -9.461099e+01 -1.512560e+02  ...  0.000000e+00  0.000000e+00\n",
              "25%    3.903149e+01 -7.719467e+01  ...  0.000000e+00  0.000000e+00\n",
              "50%    3.907336e+01 -7.709332e+01  ...  0.000000e+00  0.000000e+00\n",
              "75%    3.913867e+01 -7.704381e+01  ...  0.000000e+00  0.000000e+00\n",
              "max    7.718716e+01  4.151207e+01  ...  1.000000e+00  1.000000e+00\n",
              "\n",
              "[8 rows x 8 columns]"
            ]
          },
          "metadata": {
            "tags": []
          },
          "execution_count": 26
        }
      ]
    },
    {
      "cell_type": "code",
      "metadata": {
        "colab": {
          "base_uri": "https://localhost:8080/",
          "height": 142
        },
        "id": "DQ969J4kmbc_",
        "outputId": "ec49a2b8-3f26-4ebf-f040-422a2b380398"
      },
      "source": [
        "import numpy as np\n",
        "Accident = pd.DataFrame(\n",
        "    {\n",
        " \"Accident\": pd.Series([True, False , np.nan], dtype=np.dtype(\"O\"))\n",
        "    }\n",
        ")\n",
        "accident = df.convert_dtypes()\n",
        "accident"
      ],
      "execution_count": null,
      "outputs": [
        {
          "output_type": "execute_result",
          "data": {
            "text/html": [
              "<div>\n",
              "<style scoped>\n",
              "    .dataframe tbody tr th:only-of-type {\n",
              "        vertical-align: middle;\n",
              "    }\n",
              "\n",
              "    .dataframe tbody tr th {\n",
              "        vertical-align: top;\n",
              "    }\n",
              "\n",
              "    .dataframe thead th {\n",
              "        text-align: right;\n",
              "    }\n",
              "</style>\n",
              "<table border=\"1\" class=\"dataframe\">\n",
              "  <thead>\n",
              "    <tr style=\"text-align: right;\">\n",
              "      <th></th>\n",
              "      <th>Gender</th>\n",
              "    </tr>\n",
              "  </thead>\n",
              "  <tbody>\n",
              "    <tr>\n",
              "      <th>0</th>\n",
              "      <td>M</td>\n",
              "    </tr>\n",
              "    <tr>\n",
              "      <th>1</th>\n",
              "      <td>F</td>\n",
              "    </tr>\n",
              "    <tr>\n",
              "      <th>2</th>\n",
              "      <td>U</td>\n",
              "    </tr>\n",
              "  </tbody>\n",
              "</table>\n",
              "</div>"
            ],
            "text/plain": [
              "  Gender\n",
              "0      M\n",
              "1      F\n",
              "2      U"
            ]
          },
          "metadata": {
            "tags": []
          },
          "execution_count": 58
        }
      ]
    },
    {
      "cell_type": "code",
      "metadata": {
        "colab": {
          "base_uri": "https://localhost:8080/",
          "height": 142
        },
        "id": "EUAxBX4nsEjw",
        "outputId": "670139a0-90cc-4671-c5da-34ebff79ff31"
      },
      "source": [
        "import numpy as np\n",
        "df = pd.DataFrame(\n",
        "    {\n",
        " \"Alcohol\": pd.Series([True, False , np.nan], dtype=np.dtype(\"O\"))\n",
        "    }\n",
        ")\n",
        "Alcohol = df.convert_dtypes()\n"
      ],
      "execution_count": null,
      "outputs": [
        {
          "output_type": "execute_result",
          "data": {
            "text/html": [
              "<div>\n",
              "<style scoped>\n",
              "    .dataframe tbody tr th:only-of-type {\n",
              "        vertical-align: middle;\n",
              "    }\n",
              "\n",
              "    .dataframe tbody tr th {\n",
              "        vertical-align: top;\n",
              "    }\n",
              "\n",
              "    .dataframe thead th {\n",
              "        text-align: right;\n",
              "    }\n",
              "</style>\n",
              "<table border=\"1\" class=\"dataframe\">\n",
              "  <thead>\n",
              "    <tr style=\"text-align: right;\">\n",
              "      <th></th>\n",
              "      <th>Alcohol</th>\n",
              "    </tr>\n",
              "  </thead>\n",
              "  <tbody>\n",
              "    <tr>\n",
              "      <th>0</th>\n",
              "      <td>True</td>\n",
              "    </tr>\n",
              "    <tr>\n",
              "      <th>1</th>\n",
              "      <td>False</td>\n",
              "    </tr>\n",
              "    <tr>\n",
              "      <th>2</th>\n",
              "      <td>&lt;NA&gt;</td>\n",
              "    </tr>\n",
              "  </tbody>\n",
              "</table>\n",
              "</div>"
            ],
            "text/plain": [
              "   Alcohol\n",
              "0     True\n",
              "1    False\n",
              "2     <NA>"
            ]
          },
          "metadata": {
            "tags": []
          },
          "execution_count": 47
        }
      ]
    },
    {
      "cell_type": "code",
      "metadata": {
        "colab": {
          "base_uri": "https://localhost:8080/",
          "height": 142
        },
        "id": "wAkPY9sYuNdF",
        "outputId": "416800e2-a105-4143-9fd6-8dc9b4798041"
      },
      "source": [
        "import numpy as np\n",
        "df = pd.DataFrame(\n",
        "    {\n",
        " \"Belts\": pd.Series([True, False , np.nan], dtype=np.dtype(\"O\"))\n",
        "    }\n",
        ")\n",
        "Belts = df.convert_dtypes()\n"
      ],
      "execution_count": null,
      "outputs": [
        {
          "output_type": "execute_result",
          "data": {
            "text/html": [
              "<div>\n",
              "<style scoped>\n",
              "    .dataframe tbody tr th:only-of-type {\n",
              "        vertical-align: middle;\n",
              "    }\n",
              "\n",
              "    .dataframe tbody tr th {\n",
              "        vertical-align: top;\n",
              "    }\n",
              "\n",
              "    .dataframe thead th {\n",
              "        text-align: right;\n",
              "    }\n",
              "</style>\n",
              "<table border=\"1\" class=\"dataframe\">\n",
              "  <thead>\n",
              "    <tr style=\"text-align: right;\">\n",
              "      <th></th>\n",
              "      <th>Belts</th>\n",
              "    </tr>\n",
              "  </thead>\n",
              "  <tbody>\n",
              "    <tr>\n",
              "      <th>0</th>\n",
              "      <td>True</td>\n",
              "    </tr>\n",
              "    <tr>\n",
              "      <th>1</th>\n",
              "      <td>False</td>\n",
              "    </tr>\n",
              "    <tr>\n",
              "      <th>2</th>\n",
              "      <td>&lt;NA&gt;</td>\n",
              "    </tr>\n",
              "  </tbody>\n",
              "</table>\n",
              "</div>"
            ],
            "text/plain": [
              "   Belts\n",
              "0   True\n",
              "1  False\n",
              "2   <NA>"
            ]
          },
          "metadata": {
            "tags": []
          },
          "execution_count": 48
        }
      ]
    },
    {
      "cell_type": "code",
      "metadata": {
        "colab": {
          "base_uri": "https://localhost:8080/",
          "height": 142
        },
        "id": "OhNXj9X2uVWg",
        "outputId": "de80fa72-aa57-43ae-fe25-20fe53718b52"
      },
      "source": [
        "import numpy as np\n",
        "df = pd.DataFrame(\n",
        "    {\n",
        " \"Fatal\": pd.Series([True, False , np.nan], dtype=np.dtype(\"O\"))\n",
        "    }\n",
        ")\n",
        "Fatal = df.convert_dtypes()"
      ],
      "execution_count": null,
      "outputs": [
        {
          "output_type": "execute_result",
          "data": {
            "text/html": [
              "<div>\n",
              "<style scoped>\n",
              "    .dataframe tbody tr th:only-of-type {\n",
              "        vertical-align: middle;\n",
              "    }\n",
              "\n",
              "    .dataframe tbody tr th {\n",
              "        vertical-align: top;\n",
              "    }\n",
              "\n",
              "    .dataframe thead th {\n",
              "        text-align: right;\n",
              "    }\n",
              "</style>\n",
              "<table border=\"1\" class=\"dataframe\">\n",
              "  <thead>\n",
              "    <tr style=\"text-align: right;\">\n",
              "      <th></th>\n",
              "      <th>Fatal</th>\n",
              "    </tr>\n",
              "  </thead>\n",
              "  <tbody>\n",
              "    <tr>\n",
              "      <th>0</th>\n",
              "      <td>True</td>\n",
              "    </tr>\n",
              "    <tr>\n",
              "      <th>1</th>\n",
              "      <td>False</td>\n",
              "    </tr>\n",
              "    <tr>\n",
              "      <th>2</th>\n",
              "      <td>&lt;NA&gt;</td>\n",
              "    </tr>\n",
              "  </tbody>\n",
              "</table>\n",
              "</div>"
            ],
            "text/plain": [
              "   Fatal\n",
              "0   True\n",
              "1  False\n",
              "2   <NA>"
            ]
          },
          "metadata": {
            "tags": []
          },
          "execution_count": 49
        }
      ]
    },
    {
      "cell_type": "code",
      "metadata": {
        "colab": {
          "base_uri": "https://localhost:8080/",
          "height": 142
        },
        "id": "Rq_sThlauuCx",
        "outputId": "fde4c6f8-0c33-4b43-9911-91acfc1588c2"
      },
      "source": [
        "import numpy as np\n",
        "df = pd.DataFrame(\n",
        "    {\n",
        " \"Gender\": pd.Series(['M', 'F' , 'U'], dtype=np.dtype(\"O\"))\n",
        "    }\n",
        ")\n",
        "Gender= df.convert_dtypes()\n",
        "Gender"
      ],
      "execution_count": null,
      "outputs": [
        {
          "output_type": "execute_result",
          "data": {
            "text/html": [
              "<div>\n",
              "<style scoped>\n",
              "    .dataframe tbody tr th:only-of-type {\n",
              "        vertical-align: middle;\n",
              "    }\n",
              "\n",
              "    .dataframe tbody tr th {\n",
              "        vertical-align: top;\n",
              "    }\n",
              "\n",
              "    .dataframe thead th {\n",
              "        text-align: right;\n",
              "    }\n",
              "</style>\n",
              "<table border=\"1\" class=\"dataframe\">\n",
              "  <thead>\n",
              "    <tr style=\"text-align: right;\">\n",
              "      <th></th>\n",
              "      <th>Gender</th>\n",
              "    </tr>\n",
              "  </thead>\n",
              "  <tbody>\n",
              "    <tr>\n",
              "      <th>0</th>\n",
              "      <td>M</td>\n",
              "    </tr>\n",
              "    <tr>\n",
              "      <th>1</th>\n",
              "      <td>F</td>\n",
              "    </tr>\n",
              "    <tr>\n",
              "      <th>2</th>\n",
              "      <td>U</td>\n",
              "    </tr>\n",
              "  </tbody>\n",
              "</table>\n",
              "</div>"
            ],
            "text/plain": [
              "  Gender\n",
              "0      M\n",
              "1      F\n",
              "2      U"
            ]
          },
          "metadata": {
            "tags": []
          },
          "execution_count": 55
        }
      ]
    },
    {
      "cell_type": "code",
      "metadata": {
        "colab": {
          "base_uri": "https://localhost:8080/",
          "height": 332
        },
        "id": "HF581ZG7vSlQ",
        "outputId": "f672cbd4-cd60-4fdd-b153-8fb7046cb784"
      },
      "source": [
        "cdf = df[['Alcohol','Belts','Gender','Fatal','Accident']]\n",
        "cdf.head(9)"
      ],
      "execution_count": 15,
      "outputs": [
        {
          "output_type": "execute_result",
          "data": {
            "text/html": [
              "\n",
              "  <div id=\"df-1a9cc623-b44f-4670-a736-028e8fcb9b41\">\n",
              "    <div class=\"colab-df-container\">\n",
              "      <div>\n",
              "<style scoped>\n",
              "    .dataframe tbody tr th:only-of-type {\n",
              "        vertical-align: middle;\n",
              "    }\n",
              "\n",
              "    .dataframe tbody tr th {\n",
              "        vertical-align: top;\n",
              "    }\n",
              "\n",
              "    .dataframe thead th {\n",
              "        text-align: right;\n",
              "    }\n",
              "</style>\n",
              "<table border=\"1\" class=\"dataframe\">\n",
              "  <thead>\n",
              "    <tr style=\"text-align: right;\">\n",
              "      <th></th>\n",
              "      <th>Alcohol</th>\n",
              "      <th>Belts</th>\n",
              "      <th>Gender</th>\n",
              "      <th>Fatal</th>\n",
              "      <th>Accident</th>\n",
              "    </tr>\n",
              "  </thead>\n",
              "  <tbody>\n",
              "    <tr>\n",
              "      <th>0</th>\n",
              "      <td>No</td>\n",
              "      <td>No</td>\n",
              "      <td>M</td>\n",
              "      <td>No</td>\n",
              "      <td>No</td>\n",
              "    </tr>\n",
              "    <tr>\n",
              "      <th>1</th>\n",
              "      <td>No</td>\n",
              "      <td>No</td>\n",
              "      <td>F</td>\n",
              "      <td>No</td>\n",
              "      <td>No</td>\n",
              "    </tr>\n",
              "    <tr>\n",
              "      <th>2</th>\n",
              "      <td>No</td>\n",
              "      <td>No</td>\n",
              "      <td>F</td>\n",
              "      <td>No</td>\n",
              "      <td>No</td>\n",
              "    </tr>\n",
              "    <tr>\n",
              "      <th>3</th>\n",
              "      <td>No</td>\n",
              "      <td>No</td>\n",
              "      <td>M</td>\n",
              "      <td>No</td>\n",
              "      <td>No</td>\n",
              "    </tr>\n",
              "    <tr>\n",
              "      <th>4</th>\n",
              "      <td>No</td>\n",
              "      <td>No</td>\n",
              "      <td>M</td>\n",
              "      <td>No</td>\n",
              "      <td>No</td>\n",
              "    </tr>\n",
              "    <tr>\n",
              "      <th>5</th>\n",
              "      <td>No</td>\n",
              "      <td>No</td>\n",
              "      <td>F</td>\n",
              "      <td>No</td>\n",
              "      <td>No</td>\n",
              "    </tr>\n",
              "    <tr>\n",
              "      <th>6</th>\n",
              "      <td>No</td>\n",
              "      <td>No</td>\n",
              "      <td>M</td>\n",
              "      <td>No</td>\n",
              "      <td>No</td>\n",
              "    </tr>\n",
              "    <tr>\n",
              "      <th>7</th>\n",
              "      <td>No</td>\n",
              "      <td>No</td>\n",
              "      <td>M</td>\n",
              "      <td>No</td>\n",
              "      <td>No</td>\n",
              "    </tr>\n",
              "    <tr>\n",
              "      <th>8</th>\n",
              "      <td>No</td>\n",
              "      <td>No</td>\n",
              "      <td>M</td>\n",
              "      <td>No</td>\n",
              "      <td>No</td>\n",
              "    </tr>\n",
              "  </tbody>\n",
              "</table>\n",
              "</div>\n",
              "      <button class=\"colab-df-convert\" onclick=\"convertToInteractive('df-1a9cc623-b44f-4670-a736-028e8fcb9b41')\"\n",
              "              title=\"Convert this dataframe to an interactive table.\"\n",
              "              style=\"display:none;\">\n",
              "        \n",
              "  <svg xmlns=\"http://www.w3.org/2000/svg\" height=\"24px\"viewBox=\"0 0 24 24\"\n",
              "       width=\"24px\">\n",
              "    <path d=\"M0 0h24v24H0V0z\" fill=\"none\"/>\n",
              "    <path d=\"M18.56 5.44l.94 2.06.94-2.06 2.06-.94-2.06-.94-.94-2.06-.94 2.06-2.06.94zm-11 1L8.5 8.5l.94-2.06 2.06-.94-2.06-.94L8.5 2.5l-.94 2.06-2.06.94zm10 10l.94 2.06.94-2.06 2.06-.94-2.06-.94-.94-2.06-.94 2.06-2.06.94z\"/><path d=\"M17.41 7.96l-1.37-1.37c-.4-.4-.92-.59-1.43-.59-.52 0-1.04.2-1.43.59L10.3 9.45l-7.72 7.72c-.78.78-.78 2.05 0 2.83L4 21.41c.39.39.9.59 1.41.59.51 0 1.02-.2 1.41-.59l7.78-7.78 2.81-2.81c.8-.78.8-2.07 0-2.86zM5.41 20L4 18.59l7.72-7.72 1.47 1.35L5.41 20z\"/>\n",
              "  </svg>\n",
              "      </button>\n",
              "      \n",
              "  <style>\n",
              "    .colab-df-container {\n",
              "      display:flex;\n",
              "      flex-wrap:wrap;\n",
              "      gap: 12px;\n",
              "    }\n",
              "\n",
              "    .colab-df-convert {\n",
              "      background-color: #E8F0FE;\n",
              "      border: none;\n",
              "      border-radius: 50%;\n",
              "      cursor: pointer;\n",
              "      display: none;\n",
              "      fill: #1967D2;\n",
              "      height: 32px;\n",
              "      padding: 0 0 0 0;\n",
              "      width: 32px;\n",
              "    }\n",
              "\n",
              "    .colab-df-convert:hover {\n",
              "      background-color: #E2EBFA;\n",
              "      box-shadow: 0px 1px 2px rgba(60, 64, 67, 0.3), 0px 1px 3px 1px rgba(60, 64, 67, 0.15);\n",
              "      fill: #174EA6;\n",
              "    }\n",
              "\n",
              "    [theme=dark] .colab-df-convert {\n",
              "      background-color: #3B4455;\n",
              "      fill: #D2E3FC;\n",
              "    }\n",
              "\n",
              "    [theme=dark] .colab-df-convert:hover {\n",
              "      background-color: #434B5C;\n",
              "      box-shadow: 0px 1px 3px 1px rgba(0, 0, 0, 0.15);\n",
              "      filter: drop-shadow(0px 1px 2px rgba(0, 0, 0, 0.3));\n",
              "      fill: #FFFFFF;\n",
              "    }\n",
              "  </style>\n",
              "\n",
              "      <script>\n",
              "        const buttonEl =\n",
              "          document.querySelector('#df-1a9cc623-b44f-4670-a736-028e8fcb9b41 button.colab-df-convert');\n",
              "        buttonEl.style.display =\n",
              "          google.colab.kernel.accessAllowed ? 'block' : 'none';\n",
              "\n",
              "        async function convertToInteractive(key) {\n",
              "          const element = document.querySelector('#df-1a9cc623-b44f-4670-a736-028e8fcb9b41');\n",
              "          const dataTable =\n",
              "            await google.colab.kernel.invokeFunction('convertToInteractive',\n",
              "                                                     [key], {});\n",
              "          if (!dataTable) return;\n",
              "\n",
              "          const docLinkHtml = 'Like what you see? Visit the ' +\n",
              "            '<a target=\"_blank\" href=https://colab.research.google.com/notebooks/data_table.ipynb>data table notebook</a>'\n",
              "            + ' to learn more about interactive tables.';\n",
              "          element.innerHTML = '';\n",
              "          dataTable['output_type'] = 'display_data';\n",
              "          await google.colab.output.renderOutput(dataTable, element);\n",
              "          const docLink = document.createElement('div');\n",
              "          docLink.innerHTML = docLinkHtml;\n",
              "          element.appendChild(docLink);\n",
              "        }\n",
              "      </script>\n",
              "    </div>\n",
              "  </div>\n",
              "  "
            ],
            "text/plain": [
              "  Alcohol Belts Gender Fatal Accident\n",
              "0      No    No      M    No       No\n",
              "1      No    No      F    No       No\n",
              "2      No    No      F    No       No\n",
              "3      No    No      M    No       No\n",
              "4      No    No      M    No       No\n",
              "5      No    No      F    No       No\n",
              "6      No    No      M    No       No\n",
              "7      No    No      M    No       No\n",
              "8      No    No      M    No       No"
            ]
          },
          "metadata": {},
          "execution_count": 15
        }
      ]
    }
  ]
}